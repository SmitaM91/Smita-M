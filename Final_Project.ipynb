{
  "cells": [
    {
      "cell_type": "markdown",
      "metadata": {
        "id": "e-vMZIBYRwzN"
      },
      "source": [
        "# Final Project of Unsupervised Algorithms in Machine Learning\n",
        "## BBC News Classification\n",
        "## Introduction\n",
        "Welcome to the final project of Unsupervised Algorithms in Machine Learning. So this project is about BBC News Classification.In this project, I used machine learning techniques to classify BBC news stories into predetermined categories. Natural language processing (NLP) frequently handles the duty of classifying news, which helps condense large volumes of data into meaningful clusters for faster retrieval and analysis of pertinent content.\n",
        "## Problem Discussion\n",
        "The main difficulty lies in correctly categorising news stories according to their textual content into the appropriate groups (such as business, politics, sports, tech, and entertainment). This assignment entails:\n",
        "\n",
        "- Removing noise from the text data by cleaning and preparing it.\n",
        "- Taking significant elements out of the text.\n",
        "- Utilising machine learning techniques to classify the articles and find trends.\n",
        "## Approach for the solution\n",
        "We employ Non-negative Matrix Factorization (NMF) for the unsupervised learning strategy. NMF is an effective topic modelling method that looks for latent topics in a set of documents without using labels that have already been established.\n",
        "##Steps Envolved:\n",
        "\n",
        "#### 1. Data Preprocessing:\n",
        "- **Text cleaning:** It involves lemmatizing the text to minimise dimensionality and removing stop words, punctuation, and numerals using the SpaCy package.<br><br>\n",
        "- **Vectorization:** Use Term Frequency-Inverse Document Frequency (TF-IDF) transformation to weigh the terms after converting the cleaned text into numerical characteristics using Count Vectorization.\n",
        "\n",
        "#### 2. NMF Model Implementation:\n",
        "- **Initialization and Fitting of the Model:** Fit the NMF model onto the TF-IDF transformed document-term matrix after initialising it with parameters such as the number of components and type of solver.<br><br>\n",
        "- **Subject Assigning:** Convert the document-term matrix into the document-topic matrix, then designate subjects for every document according to the highest values.\n",
        "\n",
        "#### 3. Label Mapping and Evaluation:\n",
        "- **Label Permutation:** Use permutations to match the newly discovered themes to the original categories. Then, use accuracy ratings to determine which mapping is the best.<br><br>\n",
        "- **Model Evaluation:** To assess the NMF model's performance, compute accuracy and create a confusion matrix.\n",
        "\n",
        "\n",
        "\n",
        "\n",
        "\n",
        "\n",
        "\n",
        "\n"
      ]
    },
    {
      "cell_type": "markdown",
      "metadata": {
        "id": "Ennk9-siRwzR"
      },
      "source": [
        "## Loading Packages"
      ]
    },
    {
      "cell_type": "code",
      "source": [
        "%pip install watermark"
      ],
      "metadata": {
        "colab": {
          "base_uri": "https://localhost:8080/"
        },
        "id": "ofQ7vwb_KmhZ",
        "outputId": "d9d9a6e1-0ec8-4e0c-c2df-3f7035a4083e"
      },
      "execution_count": 1,
      "outputs": [
        {
          "output_type": "stream",
          "name": "stdout",
          "text": [
            "Collecting watermark\n",
            "  Downloading watermark-2.4.3-py2.py3-none-any.whl (7.6 kB)\n",
            "Requirement already satisfied: ipython>=6.0 in /usr/local/lib/python3.10/dist-packages (from watermark) (7.34.0)\n",
            "Requirement already satisfied: importlib-metadata>=1.4 in /usr/local/lib/python3.10/dist-packages (from watermark) (7.1.0)\n",
            "Requirement already satisfied: setuptools in /usr/local/lib/python3.10/dist-packages (from watermark) (67.7.2)\n",
            "Requirement already satisfied: zipp>=0.5 in /usr/local/lib/python3.10/dist-packages (from importlib-metadata>=1.4->watermark) (3.19.2)\n",
            "Collecting jedi>=0.16 (from ipython>=6.0->watermark)\n",
            "  Downloading jedi-0.19.1-py2.py3-none-any.whl (1.6 MB)\n",
            "\u001b[2K     \u001b[90m━━━━━━━━━━━━━━━━━━━━━━━━━━━━━━━━━━━━━━━━\u001b[0m \u001b[32m1.6/1.6 MB\u001b[0m \u001b[31m10.8 MB/s\u001b[0m eta \u001b[36m0:00:00\u001b[0m\n",
            "\u001b[?25hRequirement already satisfied: decorator in /usr/local/lib/python3.10/dist-packages (from ipython>=6.0->watermark) (4.4.2)\n",
            "Requirement already satisfied: pickleshare in /usr/local/lib/python3.10/dist-packages (from ipython>=6.0->watermark) (0.7.5)\n",
            "Requirement already satisfied: traitlets>=4.2 in /usr/local/lib/python3.10/dist-packages (from ipython>=6.0->watermark) (5.7.1)\n",
            "Requirement already satisfied: prompt-toolkit!=3.0.0,!=3.0.1,<3.1.0,>=2.0.0 in /usr/local/lib/python3.10/dist-packages (from ipython>=6.0->watermark) (3.0.47)\n",
            "Requirement already satisfied: pygments in /usr/local/lib/python3.10/dist-packages (from ipython>=6.0->watermark) (2.16.1)\n",
            "Requirement already satisfied: backcall in /usr/local/lib/python3.10/dist-packages (from ipython>=6.0->watermark) (0.2.0)\n",
            "Requirement already satisfied: matplotlib-inline in /usr/local/lib/python3.10/dist-packages (from ipython>=6.0->watermark) (0.1.7)\n",
            "Requirement already satisfied: pexpect>4.3 in /usr/local/lib/python3.10/dist-packages (from ipython>=6.0->watermark) (4.9.0)\n",
            "Requirement already satisfied: parso<0.9.0,>=0.8.3 in /usr/local/lib/python3.10/dist-packages (from jedi>=0.16->ipython>=6.0->watermark) (0.8.4)\n",
            "Requirement already satisfied: ptyprocess>=0.5 in /usr/local/lib/python3.10/dist-packages (from pexpect>4.3->ipython>=6.0->watermark) (0.7.0)\n",
            "Requirement already satisfied: wcwidth in /usr/local/lib/python3.10/dist-packages (from prompt-toolkit!=3.0.0,!=3.0.1,<3.1.0,>=2.0.0->ipython>=6.0->watermark) (0.2.13)\n",
            "Installing collected packages: jedi, watermark\n",
            "Successfully installed jedi-0.19.1 watermark-2.4.3\n"
          ]
        }
      ]
    },
    {
      "cell_type": "code",
      "execution_count": 2,
      "metadata": {
        "id": "oEfWYu6WRwzR"
      },
      "outputs": [],
      "source": [
        "import pandas as pd\n",
        "import seaborn as sns\n",
        "import matplotlib.pyplot as plt\n",
        "import numpy as np\n",
        "from sklearn.feature_extraction.text import CountVectorizer, TfidfTransformer\n",
        "from sklearn.metrics import confusion_matrix, accuracy_score, ConfusionMatrixDisplay\n",
        "from sklearn.decomposition import NMF\n",
        "import spacy\n",
        "import itertools"
      ]
    },
    {
      "cell_type": "code",
      "execution_count": 3,
      "metadata": {
        "id": "lDdcDDVCRwzT",
        "outputId": "ecc88013-393e-4b95-87bb-6e5e8b771053",
        "colab": {
          "base_uri": "https://localhost:8080/"
        }
      },
      "outputs": [
        {
          "output_type": "stream",
          "name": "stdout",
          "text": [
            "Python implementation: CPython\n",
            "Python version       : 3.10.12\n",
            "IPython version      : 7.34.0\n",
            "\n",
            "numpy  : 1.25.2\n",
            "sklearn: 1.2.2\n",
            "spacy  : 3.7.5\n",
            "pandas : 2.0.3\n",
            "seaborn: 0.13.1\n",
            "\n",
            "Compiler    : GCC 11.4.0\n",
            "OS          : Linux\n",
            "Release     : 6.1.85+\n",
            "Machine     : x86_64\n",
            "Processor   : x86_64\n",
            "CPU cores   : 2\n",
            "Architecture: 64bit\n",
            "\n"
          ]
        }
      ],
      "source": [
        "%load_ext watermark\n",
        "%watermark -v -n -m -p numpy,sklearn,spacy,pandas,seaborn"
      ]
    },
    {
      "cell_type": "markdown",
      "metadata": {
        "id": "xADZJf65RwzU"
      },
      "source": [
        "## Importing Datasets"
      ]
    },
    {
      "cell_type": "code",
      "execution_count": 4,
      "metadata": {
        "id": "mu6qyQqWRwzU"
      },
      "outputs": [],
      "source": [
        "test = pd.read_csv(r'data/BBC News Test.csv')\n",
        "train = pd.read_csv(r'data/BBC News Train.csv')"
      ]
    },
    {
      "cell_type": "markdown",
      "metadata": {
        "id": "lyoq46drRwzV"
      },
      "source": [
        "## Examine, Display, and Purify the Data"
      ]
    },
    {
      "cell_type": "code",
      "execution_count": 5,
      "metadata": {
        "id": "Jp6uRgP6RwzV",
        "outputId": "671368e2-6839-456e-d896-62ac37049fbf",
        "colab": {
          "base_uri": "https://localhost:8080/"
        }
      },
      "outputs": [
        {
          "output_type": "execute_result",
          "data": {
            "text/plain": [
              "array(['sony psp console hits us in march us gamers will be able to buy sony s playstation portable from 24 march  but there is no news of a europe debut.  the handheld console will go on sale for $250 (£132) and the first million sold will come with spider-man 2 on umd  the disc format for the machine. sony has billed the machine as the walkman of the 21st century and has sold more than 800 000 units in japan. the console (12cm by 7.4cm) will play games  movies and music and also offers support for wireless gaming. sony is entering a market which has been dominated by nintendo for many years.  it launched its ds handheld in japan and the us last year and has sold 2.8 million units. sony has said it wanted to launch the psp in europe at roughly the same time as the us  but gamers will now fear that the launch has been put back. nintendo has said it will release the ds in europe from 11 march.  it has gaming at its core  but it s not a gaming device. it s an entertainment device   said kaz hirai  president of sony computer entertainment america.'],\n",
              "      dtype=object)"
            ]
          },
          "metadata": {},
          "execution_count": 5
        }
      ],
      "source": [
        "# Look at a sample text\n",
        "train.sample(1)['Text'].values"
      ]
    },
    {
      "cell_type": "markdown",
      "metadata": {
        "id": "PUVt0dhPRwzV"
      },
      "source": [
        "Counting the number of categories indicates that none are clearly undersampled.\n",
        "\n",
        "\n"
      ]
    },
    {
      "cell_type": "code",
      "execution_count": 6,
      "metadata": {
        "id": "zF8mviUjRwzV",
        "outputId": "a9c772b1-f5e1-4d30-ee7d-632c6377bb28",
        "colab": {
          "base_uri": "https://localhost:8080/",
          "height": 536
        }
      },
      "outputs": [
        {
          "output_type": "stream",
          "name": "stderr",
          "text": [
            "<ipython-input-6-c6ab3962c70b>:3: FutureWarning: \n",
            "\n",
            "Passing `palette` without assigning `hue` is deprecated and will be removed in v0.14.0. Assign the `y` variable to `hue` and set `legend=False` for the same effect.\n",
            "\n",
            "  sns.barplot(data=category_counts,\n"
          ]
        },
        {
          "output_type": "display_data",
          "data": {
            "text/plain": [
              "<Figure size 640x480 with 1 Axes>"
            ],
            "image/png": "[encoded data removed]"
          },
          "metadata": {}
        }
      ],
      "source": [
        "\n",
        "category_counts = train['Category'].value_counts().to_frame().reset_index()\n",
        "category_counts.columns = ['Category', 'Count']\n",
        "sns.barplot(data=category_counts,\n",
        "            y='Category',\n",
        "            x='Count',\n",
        "            palette='viridis')\n",
        "plt.ylabel('Category')\n",
        "plt.xlabel('Count of Articles')\n",
        "plt.show()"
      ]
    },
    {
      "cell_type": "markdown",
      "metadata": {
        "id": "ASryw9mpRwzW"
      },
      "source": [
        "Examining the word count distribution for each category in more detail\n",
        "\n",
        "\n"
      ]
    },
    {
      "cell_type": "code",
      "execution_count": 7,
      "metadata": {
        "id": "TJIDparpRwzW"
      },
      "outputs": [],
      "source": [
        "train['NumberOfWords'] = train['Text'].str.split().apply(len)"
      ]
    },
    {
      "cell_type": "code",
      "execution_count": 9,
      "metadata": {
        "id": "3dH8TWq1RwzW",
        "outputId": "f9ba6a27-52ca-45f3-9875-d4564f7ea0db",
        "colab": {
          "base_uri": "https://localhost:8080/",
          "height": 542
        }
      },
      "outputs": [
        {
          "output_type": "display_data",
          "data": {
            "text/plain": [
              "<Figure size 1500x600 with 2 Axes>"
            ],
            "image/png": "[encoded data removed]"
          },
          "metadata": {}
        }
      ],
      "source": [
        "figs, axs = plt.subplots(ncols=2,\n",
        "                        figsize=(15,6))\n",
        "\n",
        "g1 = sns.kdeplot(data=train,\n",
        "        x='NumberOfWords',\n",
        "        hue='Category',\n",
        "           ax=axs[0])\n",
        "\n",
        "g2 = sns.boxplot(data=train,\n",
        "            x='NumberOfWords',\n",
        "            y='Category',\n",
        "           ax=axs[1])"
      ]
    },
    {
      "cell_type": "markdown",
      "metadata": {
        "id": "njAsD106RwzW"
      },
      "source": [
        "Every category's text length falls within a similar range. A few chosen pieces within the 'politics' category appear to be rather lengthy (>2000 words). We may examine each one separately to ensure that it is accurate.\n"
      ]
    },
    {
      "cell_type": "code",
      "execution_count": 10,
      "metadata": {
        "id": "_hpsTnoERwzW",
        "outputId": "cada54eb-abd1-4a80-a27a-d463009874e1",
        "colab": {
          "base_uri": "https://localhost:8080/"
        }
      },
      "outputs": [
        {
          "output_type": "execute_result",
          "data": {
            "text/plain": [
              "1057    minimum wage increased to £5.05 the minimum wa...\n",
              "454     roundabout continues nostalgia trip the new bi...\n",
              "1258    kilroy launches  veritas  party ex-bbc chat sh...\n",
              "364     all black magic: new zealand rugby playing col...\n",
              "120     apple laptop is  greatest gadget  the apple po...\n",
              "Name: Text, dtype: object"
            ]
          },
          "metadata": {},
          "execution_count": 10
        }
      ],
      "source": [
        "train.sort_values('NumberOfWords', ascending=False).head(5)['Text']"
      ]
    },
    {
      "cell_type": "markdown",
      "metadata": {
        "id": "Ipuh6hMURwzW"
      },
      "source": [
        "## Constructing and instructing models\n",
        "### Unsupervised Model (NMF)\n",
        "We must perform some further data cleaning and text feature engineering before we can begin building our model. For this, the SpaCy library will be utilised.\n",
        "### Utilising spacy, lemmatize and eliminate stop words\n",
        "Certain stop words, including \"the,\" \"if,\" and so on, have no classification significance; they can be eliminated along with punctuation and numbers in text.\n",
        "\n",
        "\n"
      ]
    },
    {
      "cell_type": "code",
      "execution_count": 11,
      "metadata": {
        "id": "dsIjbrpGRwzW",
        "outputId": "32b254f7-d68b-49d7-e8ee-f459c438d2af",
        "colab": {
          "base_uri": "https://localhost:8080/"
        }
      },
      "outputs": [
        {
          "output_type": "stream",
          "name": "stdout",
          "text": [
            "Collecting en-core-web-md==3.7.1\n",
            "  Downloading https://github.com/explosion/spacy-models/releases/download/en_core_web_md-3.7.1/en_core_web_md-3.7.1-py3-none-any.whl (42.8 MB)\n",
            "\u001b[2K     \u001b[90m━━━━━━━━━━━━━━━━━━━━━━━━━━━━━━━━━━━━━━━━\u001b[0m \u001b[32m42.8/42.8 MB\u001b[0m \u001b[31m18.1 MB/s\u001b[0m eta \u001b[36m0:00:00\u001b[0m\n",
            "\u001b[?25hRequirement already satisfied: spacy<3.8.0,>=3.7.2 in /usr/local/lib/python3.10/dist-packages (from en-core-web-md==3.7.1) (3.7.5)\n",
            "Requirement already satisfied: spacy-legacy<3.1.0,>=3.0.11 in /usr/local/lib/python3.10/dist-packages (from spacy<3.8.0,>=3.7.2->en-core-web-md==3.7.1) (3.0.12)\n",
            "Requirement already satisfied: spacy-loggers<2.0.0,>=1.0.0 in /usr/local/lib/python3.10/dist-packages (from spacy<3.8.0,>=3.7.2->en-core-web-md==3.7.1) (1.0.5)\n",
            "Requirement already satisfied: murmurhash<1.1.0,>=0.28.0 in /usr/local/lib/python3.10/dist-packages (from spacy<3.8.0,>=3.7.2->en-core-web-md==3.7.1) (1.0.10)\n",
            "Requirement already satisfied: cymem<2.1.0,>=2.0.2 in /usr/local/lib/python3.10/dist-packages (from spacy<3.8.0,>=3.7.2->en-core-web-md==3.7.1) (2.0.8)\n",
            "Requirement already satisfied: preshed<3.1.0,>=3.0.2 in /usr/local/lib/python3.10/dist-packages (from spacy<3.8.0,>=3.7.2->en-core-web-md==3.7.1) (3.0.9)\n",
            "Requirement already satisfied: thinc<8.3.0,>=8.2.2 in /usr/local/lib/python3.10/dist-packages (from spacy<3.8.0,>=3.7.2->en-core-web-md==3.7.1) (8.2.4)\n",
            "Requirement already satisfied: wasabi<1.2.0,>=0.9.1 in /usr/local/lib/python3.10/dist-packages (from spacy<3.8.0,>=3.7.2->en-core-web-md==3.7.1) (1.1.3)\n",
            "Requirement already satisfied: srsly<3.0.0,>=2.4.3 in /usr/local/lib/python3.10/dist-packages (from spacy<3.8.0,>=3.7.2->en-core-web-md==3.7.1) (2.4.8)\n",
            "Requirement already satisfied: catalogue<2.1.0,>=2.0.6 in /usr/local/lib/python3.10/dist-packages (from spacy<3.8.0,>=3.7.2->en-core-web-md==3.7.1) (2.0.10)\n",
            "Requirement already satisfied: weasel<0.5.0,>=0.1.0 in /usr/local/lib/python3.10/dist-packages (from spacy<3.8.0,>=3.7.2->en-core-web-md==3.7.1) (0.4.1)\n",
            "Requirement already satisfied: typer<1.0.0,>=0.3.0 in /usr/local/lib/python3.10/dist-packages (from spacy<3.8.0,>=3.7.2->en-core-web-md==3.7.1) (0.12.3)\n",
            "Requirement already satisfied: tqdm<5.0.0,>=4.38.0 in /usr/local/lib/python3.10/dist-packages (from spacy<3.8.0,>=3.7.2->en-core-web-md==3.7.1) (4.66.4)\n",
            "Requirement already satisfied: requests<3.0.0,>=2.13.0 in /usr/local/lib/python3.10/dist-packages (from spacy<3.8.0,>=3.7.2->en-core-web-md==3.7.1) (2.31.0)\n",
            "Requirement already satisfied: pydantic!=1.8,!=1.8.1,<3.0.0,>=1.7.4 in /usr/local/lib/python3.10/dist-packages (from spacy<3.8.0,>=3.7.2->en-core-web-md==3.7.1) (2.7.4)\n",
            "Requirement already satisfied: jinja2 in /usr/local/lib/python3.10/dist-packages (from spacy<3.8.0,>=3.7.2->en-core-web-md==3.7.1) (3.1.4)\n",
            "Requirement already satisfied: setuptools in /usr/local/lib/python3.10/dist-packages (from spacy<3.8.0,>=3.7.2->en-core-web-md==3.7.1) (67.7.2)\n",
            "Requirement already satisfied: packaging>=20.0 in /usr/local/lib/python3.10/dist-packages (from spacy<3.8.0,>=3.7.2->en-core-web-md==3.7.1) (24.1)\n",
            "Requirement already satisfied: langcodes<4.0.0,>=3.2.0 in /usr/local/lib/python3.10/dist-packages (from spacy<3.8.0,>=3.7.2->en-core-web-md==3.7.1) (3.4.0)\n",
            "Requirement already satisfied: numpy>=1.19.0 in /usr/local/lib/python3.10/dist-packages (from spacy<3.8.0,>=3.7.2->en-core-web-md==3.7.1) (1.25.2)\n",
            "Requirement already satisfied: language-data>=1.2 in /usr/local/lib/python3.10/dist-packages (from langcodes<4.0.0,>=3.2.0->spacy<3.8.0,>=3.7.2->en-core-web-md==3.7.1) (1.2.0)\n",
            "Requirement already satisfied: annotated-types>=0.4.0 in /usr/local/lib/python3.10/dist-packages (from pydantic!=1.8,!=1.8.1,<3.0.0,>=1.7.4->spacy<3.8.0,>=3.7.2->en-core-web-md==3.7.1) (0.7.0)\n",
            "Requirement already satisfied: pydantic-core==2.18.4 in /usr/local/lib/python3.10/dist-packages (from pydantic!=1.8,!=1.8.1,<3.0.0,>=1.7.4->spacy<3.8.0,>=3.7.2->en-core-web-md==3.7.1) (2.18.4)\n",
            "Requirement already satisfied: typing-extensions>=4.6.1 in /usr/local/lib/python3.10/dist-packages (from pydantic!=1.8,!=1.8.1,<3.0.0,>=1.7.4->spacy<3.8.0,>=3.7.2->en-core-web-md==3.7.1) (4.12.2)\n",
            "Requirement already satisfied: charset-normalizer<4,>=2 in /usr/local/lib/python3.10/dist-packages (from requests<3.0.0,>=2.13.0->spacy<3.8.0,>=3.7.2->en-core-web-md==3.7.1) (3.3.2)\n",
            "Requirement already satisfied: idna<4,>=2.5 in /usr/local/lib/python3.10/dist-packages (from requests<3.0.0,>=2.13.0->spacy<3.8.0,>=3.7.2->en-core-web-md==3.7.1) (3.7)\n",
            "Requirement already satisfied: urllib3<3,>=1.21.1 in /usr/local/lib/python3.10/dist-packages (from requests<3.0.0,>=2.13.0->spacy<3.8.0,>=3.7.2->en-core-web-md==3.7.1) (2.0.7)\n",
            "Requirement already satisfied: certifi>=2017.4.17 in /usr/local/lib/python3.10/dist-packages (from requests<3.0.0,>=2.13.0->spacy<3.8.0,>=3.7.2->en-core-web-md==3.7.1) (2024.6.2)\n",
            "Requirement already satisfied: blis<0.8.0,>=0.7.8 in /usr/local/lib/python3.10/dist-packages (from thinc<8.3.0,>=8.2.2->spacy<3.8.0,>=3.7.2->en-core-web-md==3.7.1) (0.7.11)\n",
            "Requirement already satisfied: confection<1.0.0,>=0.0.1 in /usr/local/lib/python3.10/dist-packages (from thinc<8.3.0,>=8.2.2->spacy<3.8.0,>=3.7.2->en-core-web-md==3.7.1) (0.1.5)\n",
            "Requirement already satisfied: click>=8.0.0 in /usr/local/lib/python3.10/dist-packages (from typer<1.0.0,>=0.3.0->spacy<3.8.0,>=3.7.2->en-core-web-md==3.7.1) (8.1.7)\n",
            "Requirement already satisfied: shellingham>=1.3.0 in /usr/local/lib/python3.10/dist-packages (from typer<1.0.0,>=0.3.0->spacy<3.8.0,>=3.7.2->en-core-web-md==3.7.1) (1.5.4)\n",
            "Requirement already satisfied: rich>=10.11.0 in /usr/local/lib/python3.10/dist-packages (from typer<1.0.0,>=0.3.0->spacy<3.8.0,>=3.7.2->en-core-web-md==3.7.1) (13.7.1)\n",
            "Requirement already satisfied: cloudpathlib<1.0.0,>=0.7.0 in /usr/local/lib/python3.10/dist-packages (from weasel<0.5.0,>=0.1.0->spacy<3.8.0,>=3.7.2->en-core-web-md==3.7.1) (0.18.1)\n",
            "Requirement already satisfied: smart-open<8.0.0,>=5.2.1 in /usr/local/lib/python3.10/dist-packages (from weasel<0.5.0,>=0.1.0->spacy<3.8.0,>=3.7.2->en-core-web-md==3.7.1) (7.0.4)\n",
            "Requirement already satisfied: MarkupSafe>=2.0 in /usr/local/lib/python3.10/dist-packages (from jinja2->spacy<3.8.0,>=3.7.2->en-core-web-md==3.7.1) (2.1.5)\n",
            "Requirement already satisfied: marisa-trie>=0.7.7 in /usr/local/lib/python3.10/dist-packages (from language-data>=1.2->langcodes<4.0.0,>=3.2.0->spacy<3.8.0,>=3.7.2->en-core-web-md==3.7.1) (1.2.0)\n",
            "Requirement already satisfied: markdown-it-py>=2.2.0 in /usr/local/lib/python3.10/dist-packages (from rich>=10.11.0->typer<1.0.0,>=0.3.0->spacy<3.8.0,>=3.7.2->en-core-web-md==3.7.1) (3.0.0)\n",
            "Requirement already satisfied: pygments<3.0.0,>=2.13.0 in /usr/local/lib/python3.10/dist-packages (from rich>=10.11.0->typer<1.0.0,>=0.3.0->spacy<3.8.0,>=3.7.2->en-core-web-md==3.7.1) (2.16.1)\n",
            "Requirement already satisfied: wrapt in /usr/local/lib/python3.10/dist-packages (from smart-open<8.0.0,>=5.2.1->weasel<0.5.0,>=0.1.0->spacy<3.8.0,>=3.7.2->en-core-web-md==3.7.1) (1.14.1)\n",
            "Requirement already satisfied: mdurl~=0.1 in /usr/local/lib/python3.10/dist-packages (from markdown-it-py>=2.2.0->rich>=10.11.0->typer<1.0.0,>=0.3.0->spacy<3.8.0,>=3.7.2->en-core-web-md==3.7.1) (0.1.2)\n",
            "Installing collected packages: en-core-web-md\n",
            "Successfully installed en-core-web-md-3.7.1\n",
            "\u001b[38;5;2m✔ Download and installation successful\u001b[0m\n",
            "You can now load the package via spacy.load('en_core_web_md')\n",
            "\u001b[38;5;3m⚠ Restart to reload dependencies\u001b[0m\n",
            "If you are in a Jupyter or Colab notebook, you may need to restart Python in\n",
            "order to load all the package's dependencies. You can do this by selecting the\n",
            "'Restart kernel' or 'Restart runtime' option.\n"
          ]
        }
      ],
      "source": [
        "!python3 -m spacy download en_core_web_md"
      ]
    },
    {
      "cell_type": "code",
      "execution_count": 12,
      "metadata": {
        "id": "sSVBkJimRwzX"
      },
      "outputs": [],
      "source": [
        "#Load a medium trained model\n",
        "nlp = spacy.load(\"en_core_web_md\")"
      ]
    },
    {
      "cell_type": "code",
      "execution_count": 13,
      "metadata": {
        "id": "ZzlbN37LRwzX"
      },
      "outputs": [],
      "source": [
        "def cleaner(note):\n",
        "    \"\"\"Remove stop words, punctuations, convert words into lemma_\"\"\"\n",
        "    doc = nlp(note)\n",
        "    return (\" \".join([token.lemma_ for token in doc if not token.is_stop and not token.is_punct and not token.like_num]))"
      ]
    },
    {
      "cell_type": "code",
      "execution_count": 14,
      "metadata": {
        "id": "matcTTwFRwzX"
      },
      "outputs": [],
      "source": [
        "# This may take upto few minutes to execute\n",
        "train['Text'] = train['Text'].astype(str).apply(cleaner)"
      ]
    },
    {
      "cell_type": "markdown",
      "metadata": {
        "id": "PM1gh4jNRwzX"
      },
      "source": [
        "We first obtain word counts in order to compute their tf-dif (term frequency-inverse document frequency), which will be supplied to our model in order to build our text document. This is a crucial step because tf-dif assists in identifying pertinent terms that aren't used frequently in the document.\n",
        "\n",
        "\n"
      ]
    },
    {
      "cell_type": "code",
      "execution_count": 15,
      "metadata": {
        "id": "1CLPKix0RwzX"
      },
      "outputs": [],
      "source": [
        "counter = CountVectorizer()\n",
        "bag = counter.fit_transform(train['Text'].values)"
      ]
    },
    {
      "cell_type": "code",
      "execution_count": 17,
      "metadata": {
        "id": "kNStObyXRwzX",
        "outputId": "e94e08b4-efbf-4a68-b147-9ec1f929d7d6",
        "colab": {
          "base_uri": "https://localhost:8080/"
        }
      },
      "outputs": [
        {
          "output_type": "execute_result",
          "data": {
            "text/plain": [
              "(1490, 18824)"
            ]
          },
          "metadata": {},
          "execution_count": 17
        }
      ],
      "source": [
        "# Bag contains a sparse matix of all document, word combinations as a 1-gram model (broken off by single words)\n",
        "bag.toarray().shape"
      ]
    },
    {
      "cell_type": "code",
      "execution_count": 19,
      "metadata": {
        "id": "JHt6RKxrRwzY"
      },
      "outputs": [],
      "source": [
        "# Apply tf-idf technique to weight down frequent words appearing in all docs\n",
        "tfidf_vec = TfidfTransformer(use_idf=True,\n",
        "                             norm='l2', # Apply l2 normalization\n",
        "                             smooth_idf=True) # Assigns zero weights to terms occuring in all dosc"
      ]
    },
    {
      "cell_type": "code",
      "execution_count": 20,
      "metadata": {
        "id": "t7xLO_-MRwzY"
      },
      "outputs": [],
      "source": [
        "tfidf_run = tfidf_vec.fit_transform(bag)"
      ]
    },
    {
      "cell_type": "markdown",
      "metadata": {
        "id": "8VlZekoKRwzY"
      },
      "source": [
        "Grid search can be used to adjust the model's tf-idf and NMF parameters; however, for this project, we just made a few ad hoc modifications and chose an NMF model that used kullback-leibler beta_loss.\n",
        "\n",
        "| Parameter | Accuracy |\n",
        "|-----------|----------|\n",
        "| beta_loss = frobenius, solver = cd | 0.9201 |\n",
        "| beta_loss = frobenius, solver = mu | 0.9154 |\n",
        "| beta_loss = kullback-leibler, solver = mu | 0.9423 |"
      ]
    },
    {
      "cell_type": "code",
      "execution_count": 21,
      "metadata": {
        "id": "qR-XJo1eRwzY",
        "outputId": "3d2be697-dc66-42e9-9df9-21ab4f9c0b5b",
        "colab": {
          "base_uri": "https://localhost:8080/",
          "height": 77
        }
      },
      "outputs": [
        {
          "output_type": "execute_result",
          "data": {
            "text/plain": [
              "NMF(beta_loss='kullback-leibler', n_components=5, random_state=42, solver='mu')"
            ],
            "text/html": [
              "<style>#sk-container-id-1 {color: black;background-color: white;}#sk-container-id-1 pre{padding: 0;}#sk-container-id-1 div.sk-toggleable {background-color: white;}#sk-container-id-1 label.sk-toggleable__label {cursor: pointer;display: block;width: 100%;margin-bottom: 0;padding: 0.3em;box-sizing: border-box;text-align: center;}#sk-container-id-1 label.sk-toggleable__label-arrow:before {content: \"▸\";float: left;margin-right: 0.25em;color: #696969;}#sk-container-id-1 label.sk-toggleable__label-arrow:hover:before {color: black;}#sk-container-id-1 div.sk-estimator:hover label.sk-toggleable__label-arrow:before {color: black;}#sk-container-id-1 div.sk-toggleable__content {max-height: 0;max-width: 0;overflow: hidden;text-align: left;background-color: #f0f8ff;}#sk-container-id-1 div.sk-toggleable__content pre {margin: 0.2em;color: black;border-radius: 0.25em;background-color: #f0f8ff;}#sk-container-id-1 input.sk-toggleable__control:checked~div.sk-toggleable__content {max-height: 200px;max-width: 100%;overflow: auto;}#sk-container-id-1 input.sk-toggleable__control:checked~label.sk-toggleable__label-arrow:before {content: \"▾\";}#sk-container-id-1 div.sk-estimator input.sk-toggleable__control:checked~label.sk-toggleable__label {background-color: #d4ebff;}#sk-container-id-1 div.sk-label input.sk-toggleable__control:checked~label.sk-toggleable__label {background-color: #d4ebff;}#sk-container-id-1 input.sk-hidden--visually {border: 0;clip: rect(1px 1px 1px 1px);clip: rect(1px, 1px, 1px, 1px);height: 1px;margin: -1px;overflow: hidden;padding: 0;position: absolute;width: 1px;}#sk-container-id-1 div.sk-estimator {font-family: monospace;background-color: #f0f8ff;border: 1px dotted black;border-radius: 0.25em;box-sizing: border-box;margin-bottom: 0.5em;}#sk-container-id-1 div.sk-estimator:hover {background-color: #d4ebff;}#sk-container-id-1 div.sk-parallel-item::after {content: \"\";width: 100%;border-bottom: 1px solid gray;flex-grow: 1;}#sk-container-id-1 div.sk-label:hover label.sk-toggleable__label {background-color: #d4ebff;}#sk-container-id-1 div.sk-serial::before {content: \"\";position: absolute;border-left: 1px solid gray;box-sizing: border-box;top: 0;bottom: 0;left: 50%;z-index: 0;}#sk-container-id-1 div.sk-serial {display: flex;flex-direction: column;align-items: center;background-color: white;padding-right: 0.2em;padding-left: 0.2em;position: relative;}#sk-container-id-1 div.sk-item {position: relative;z-index: 1;}#sk-container-id-1 div.sk-parallel {display: flex;align-items: stretch;justify-content: center;background-color: white;position: relative;}#sk-container-id-1 div.sk-item::before, #sk-container-id-1 div.sk-parallel-item::before {content: \"\";position: absolute;border-left: 1px solid gray;box-sizing: border-box;top: 0;bottom: 0;left: 50%;z-index: -1;}#sk-container-id-1 div.sk-parallel-item {display: flex;flex-direction: column;z-index: 1;position: relative;background-color: white;}#sk-container-id-1 div.sk-parallel-item:first-child::after {align-self: flex-end;width: 50%;}#sk-container-id-1 div.sk-parallel-item:last-child::after {align-self: flex-start;width: 50%;}#sk-container-id-1 div.sk-parallel-item:only-child::after {width: 0;}#sk-container-id-1 div.sk-dashed-wrapped {border: 1px dashed gray;margin: 0 0.4em 0.5em 0.4em;box-sizing: border-box;padding-bottom: 0.4em;background-color: white;}#sk-container-id-1 div.sk-label label {font-family: monospace;font-weight: bold;display: inline-block;line-height: 1.2em;}#sk-container-id-1 div.sk-label-container {text-align: center;}#sk-container-id-1 div.sk-container {/* jupyter's `normalize.less` sets `[hidden] { display: none; }` but bootstrap.min.css set `[hidden] { display: none !important; }` so we also need the `!important` here to be able to override the default hidden behavior on the sphinx rendered scikit-learn.org. See: https://github.com/scikit-learn/scikit-learn/issues/21755 */display: inline-block !important;position: relative;}#sk-container-id-1 div.sk-text-repr-fallback {display: none;}</style><div id=\"sk-container-id-1\" class=\"sk-top-container\"><div class=\"sk-text-repr-fallback\"><pre>NMF(beta_loss=&#x27;kullback-leibler&#x27;, n_components=5, random_state=42, solver=&#x27;mu&#x27;)</pre><b>In a Jupyter environment, please rerun this cell to show the HTML representation or trust the notebook. <br />On GitHub, the HTML representation is unable to render, please try loading this page with nbviewer.org.</b></div><div class=\"sk-container\" hidden><div class=\"sk-item\"><div class=\"sk-estimator sk-toggleable\"><input class=\"sk-toggleable__control sk-hidden--visually\" id=\"sk-estimator-id-1\" type=\"checkbox\" checked><label for=\"sk-estimator-id-1\" class=\"sk-toggleable__label sk-toggleable__label-arrow\">NMF</label><div class=\"sk-toggleable__content\"><pre>NMF(beta_loss=&#x27;kullback-leibler&#x27;, n_components=5, random_state=42, solver=&#x27;mu&#x27;)</pre></div></div></div></div></div>"
            ]
          },
          "metadata": {},
          "execution_count": 21
        }
      ],
      "source": [
        "# Fit a NMF model on the tf-dif values\n",
        "nmf = NMF(solver='mu',\n",
        "          n_components=5, # The number of topics we want\n",
        "          beta_loss='kullback-leibler', #\n",
        "          random_state=42)\n",
        "nmf.fit(tfidf_run)"
      ]
    },
    {
      "cell_type": "code",
      "execution_count": 22,
      "metadata": {
        "id": "gohMHg8xRwzY",
        "outputId": "a4313f14-2f58-4e1f-a58b-248b2f0f16b0",
        "colab": {
          "base_uri": "https://localhost:8080/"
        }
      },
      "outputs": [
        {
          "output_type": "execute_result",
          "data": {
            "text/plain": [
              "array([4, 4, 4, ..., 4, 2, 2])"
            ]
          },
          "metadata": {},
          "execution_count": 22
        }
      ],
      "source": [
        "# We can get the max position of the transform using argmax\n",
        "predicted_labels = nmf.transform(tfidf_run).argmax(axis=1)\n",
        "predicted_labels"
      ]
    },
    {
      "cell_type": "code",
      "execution_count": 23,
      "metadata": {
        "id": "y0bKiLd4RwzZ"
      },
      "outputs": [],
      "source": [
        "def label_permute_compare(y_actual, y_pred, n=5):\n",
        "    \"\"\"\n",
        "    Args:\n",
        "        y_actual -> pd.Series with categories as text\n",
        "        y_pred -> np.array with predictions\n",
        "        n -> Number of permutations in y_pred\n",
        "    Returns:\n",
        "        Predicted labels, accuracy score\n",
        "    \"\"\"\n",
        "    all_scores = []\n",
        "    actual_labels = y_actual.unique().tolist()\n",
        "\n",
        "    # Generate permutations to check against\n",
        "    for perm in itertools.permutations((0, 1, 2, 3, 4), 5):\n",
        "        remap_dict = dict(zip(actual_labels, perm))\n",
        "        # Change the values in the prediction\n",
        "        y_actual_coded = y_actual.replace(remap_dict)\n",
        "        acc = accuracy_score(y_actual_coded, y_pred)\n",
        "        all_scores.append([perm, acc])\n",
        "\n",
        "    best_score = sorted(all_scores, key=lambda x:x[1])[-1]\n",
        "\n",
        "    return best_score, actual_labels"
      ]
    },
    {
      "cell_type": "code",
      "execution_count": 24,
      "metadata": {
        "id": "06jgdafoRwzZ",
        "outputId": "67674961-a8d3-41f3-efa6-34d31e29191c",
        "colab": {
          "base_uri": "https://localhost:8080/"
        }
      },
      "outputs": [
        {
          "output_type": "stream",
          "name": "stdout",
          "text": [
            "Labels are -> (4, 2, 1, 0, 3) for ['business', 'tech', 'politics', 'sport', 'entertainment']\n",
            " Accuracy -> 0.9389261744966443\n"
          ]
        }
      ],
      "source": [
        "# We pass the max values into a function to predict the labels\n",
        "label_predictions = label_permute_compare(train['Category'], predicted_labels)\n",
        "\n",
        "# Print the results\n",
        "print(f'Labels are -> {label_predictions[0][0]} for {label_predictions[1]}\\\n",
        "\\n Accuracy -> {label_predictions[0][1]}')"
      ]
    },
    {
      "cell_type": "code",
      "execution_count": 25,
      "metadata": {
        "id": "erZkv568RwzZ",
        "outputId": "44a4531d-d5ce-4247-af59-36845ba02577",
        "colab": {
          "base_uri": "https://localhost:8080/"
        }
      },
      "outputs": [
        {
          "output_type": "execute_result",
          "data": {
            "text/plain": [
              "{4: 'business', 2: 'tech', 1: 'politics', 0: 'sport', 3: 'entertainment'}"
            ]
          },
          "metadata": {},
          "execution_count": 25
        }
      ],
      "source": [
        "label_category_mapping = dict(zip(label_predictions[0][0], label_predictions[1]))\n",
        "label_category_mapping"
      ]
    },
    {
      "cell_type": "code",
      "execution_count": 26,
      "metadata": {
        "id": "n3-3n7DSRwza",
        "outputId": "4f9047d5-adbf-465b-96da-aaf5391975ab",
        "colab": {
          "base_uri": "https://localhost:8080/",
          "height": 207
        }
      },
      "outputs": [
        {
          "output_type": "execute_result",
          "data": {
            "text/plain": [
              "      ArticleId                                               Text  \\\n",
              "954         679  oscar host rock clean oscar host chris rock sa...   \n",
              "974         943  butler strike gold spain britain s kathy butle...   \n",
              "1122        458  podcast mark rise diy radio apple ipod digital...   \n",
              "1321       1791  brown name march budget chancellor gordon brow...   \n",
              "723        1366  j&j agree $ 25bn guidant deal pharmaceutical g...   \n",
              "\n",
              "           Category  NumberOfWords    Predictions  \n",
              "954   entertainment            243  entertainment  \n",
              "974           sport            175          sport  \n",
              "1122           tech           1045           tech  \n",
              "1321       politics            253       politics  \n",
              "723        business            189       business  "
            ],
            "text/html": [
              "\n",
              "  <div id=\"df-9d1d43f3-5a71-4a8c-94bc-602e6c15f9bb\" class=\"colab-df-container\">\n",
              "    <div>\n",
              "<style scoped>\n",
              "    .dataframe tbody tr th:only-of-type {\n",
              "        vertical-align: middle;\n",
              "    }\n",
              "\n",
              "    .dataframe tbody tr th {\n",
              "        vertical-align: top;\n",
              "    }\n",
              "\n",
              "    .dataframe thead th {\n",
              "        text-align: right;\n",
              "    }\n",
              "</style>\n",
              "<table border=\"1\" class=\"dataframe\">\n",
              "  <thead>\n",
              "    <tr style=\"text-align: right;\">\n",
              "      <th></th>\n",
              "      <th>ArticleId</th>\n",
              "      <th>Text</th>\n",
              "      <th>Category</th>\n",
              "      <th>NumberOfWords</th>\n",
              "      <th>Predictions</th>\n",
              "    </tr>\n",
              "  </thead>\n",
              "  <tbody>\n",
              "    <tr>\n",
              "      <th>954</th>\n",
              "      <td>679</td>\n",
              "      <td>oscar host rock clean oscar host chris rock sa...</td>\n",
              "      <td>entertainment</td>\n",
              "      <td>243</td>\n",
              "      <td>entertainment</td>\n",
              "    </tr>\n",
              "    <tr>\n",
              "      <th>974</th>\n",
              "      <td>943</td>\n",
              "      <td>butler strike gold spain britain s kathy butle...</td>\n",
              "      <td>sport</td>\n",
              "      <td>175</td>\n",
              "      <td>sport</td>\n",
              "    </tr>\n",
              "    <tr>\n",
              "      <th>1122</th>\n",
              "      <td>458</td>\n",
              "      <td>podcast mark rise diy radio apple ipod digital...</td>\n",
              "      <td>tech</td>\n",
              "      <td>1045</td>\n",
              "      <td>tech</td>\n",
              "    </tr>\n",
              "    <tr>\n",
              "      <th>1321</th>\n",
              "      <td>1791</td>\n",
              "      <td>brown name march budget chancellor gordon brow...</td>\n",
              "      <td>politics</td>\n",
              "      <td>253</td>\n",
              "      <td>politics</td>\n",
              "    </tr>\n",
              "    <tr>\n",
              "      <th>723</th>\n",
              "      <td>1366</td>\n",
              "      <td>j&amp;j agree $ 25bn guidant deal pharmaceutical g...</td>\n",
              "      <td>business</td>\n",
              "      <td>189</td>\n",
              "      <td>business</td>\n",
              "    </tr>\n",
              "  </tbody>\n",
              "</table>\n",
              "</div>\n",
              "    <div class=\"colab-df-buttons\">\n",
              "\n",
              "  <div class=\"colab-df-container\">\n",
              "    <button class=\"colab-df-convert\" onclick=\"convertToInteractive('df-9d1d43f3-5a71-4a8c-94bc-602e6c15f9bb')\"\n",
              "            title=\"Convert this dataframe to an interactive table.\"\n",
              "            style=\"display:none;\">\n",
              "\n",
              "  <svg xmlns=\"http://www.w3.org/2000/svg\" height=\"24px\" viewBox=\"0 -960 960 960\">\n",
              "    <path d=\"M120-120v-720h720v720H120Zm60-500h600v-160H180v160Zm220 220h160v-160H400v160Zm0 220h160v-160H400v160ZM180-400h160v-160H180v160Zm440 0h160v-160H620v160ZM180-180h160v-160H180v160Zm440 0h160v-160H620v160Z\"/>\n",
              "  </svg>\n",
              "    </button>\n",
              "\n",
              "  <style>\n",
              "    .colab-df-container {\n",
              "      display:flex;\n",
              "      gap: 12px;\n",
              "    }\n",
              "\n",
              "    .colab-df-convert {\n",
              "      background-color: #E8F0FE;\n",
              "      border: none;\n",
              "      border-radius: 50%;\n",
              "      cursor: pointer;\n",
              "      display: none;\n",
              "      fill: #1967D2;\n",
              "      height: 32px;\n",
              "      padding: 0 0 0 0;\n",
              "      width: 32px;\n",
              "    }\n",
              "\n",
              "    .colab-df-convert:hover {\n",
              "      background-color: #E2EBFA;\n",
              "      box-shadow: 0px 1px 2px rgba(60, 64, 67, 0.3), 0px 1px 3px 1px rgba(60, 64, 67, 0.15);\n",
              "      fill: #174EA6;\n",
              "    }\n",
              "\n",
              "    .colab-df-buttons div {\n",
              "      margin-bottom: 4px;\n",
              "    }\n",
              "\n",
              "    [theme=dark] .colab-df-convert {\n",
              "      background-color: #3B4455;\n",
              "      fill: #D2E3FC;\n",
              "    }\n",
              "\n",
              "    [theme=dark] .colab-df-convert:hover {\n",
              "      background-color: #434B5C;\n",
              "      box-shadow: 0px 1px 3px 1px rgba(0, 0, 0, 0.15);\n",
              "      filter: drop-shadow(0px 1px 2px rgba(0, 0, 0, 0.3));\n",
              "      fill: #FFFFFF;\n",
              "    }\n",
              "  </style>\n",
              "\n",
              "    <script>\n",
              "      const buttonEl =\n",
              "        document.querySelector('#df-9d1d43f3-5a71-4a8c-94bc-602e6c15f9bb button.colab-df-convert');\n",
              "      buttonEl.style.display =\n",
              "        google.colab.kernel.accessAllowed ? 'block' : 'none';\n",
              "\n",
              "      async function convertToInteractive(key) {\n",
              "        const element = document.querySelector('#df-9d1d43f3-5a71-4a8c-94bc-602e6c15f9bb');\n",
              "        const dataTable =\n",
              "          await google.colab.kernel.invokeFunction('convertToInteractive',\n",
              "                                                    [key], {});\n",
              "        if (!dataTable) return;\n",
              "\n",
              "        const docLinkHtml = 'Like what you see? Visit the ' +\n",
              "          '<a target=\"_blank\" href=https://colab.research.google.com/notebooks/data_table.ipynb>data table notebook</a>'\n",
              "          + ' to learn more about interactive tables.';\n",
              "        element.innerHTML = '';\n",
              "        dataTable['output_type'] = 'display_data';\n",
              "        await google.colab.output.renderOutput(dataTable, element);\n",
              "        const docLink = document.createElement('div');\n",
              "        docLink.innerHTML = docLinkHtml;\n",
              "        element.appendChild(docLink);\n",
              "      }\n",
              "    </script>\n",
              "  </div>\n",
              "\n",
              "\n",
              "<div id=\"df-c6af0d14-6526-44c5-b2e5-964dd49dc4dd\">\n",
              "  <button class=\"colab-df-quickchart\" onclick=\"quickchart('df-c6af0d14-6526-44c5-b2e5-964dd49dc4dd')\"\n",
              "            title=\"Suggest charts\"\n",
              "            style=\"display:none;\">\n",
              "\n",
              "<svg xmlns=\"http://www.w3.org/2000/svg\" height=\"24px\"viewBox=\"0 0 24 24\"\n",
              "     width=\"24px\">\n",
              "    <g>\n",
              "        <path d=\"M19 3H5c-1.1 0-2 .9-2 2v14c0 1.1.9 2 2 2h14c1.1 0 2-.9 2-2V5c0-1.1-.9-2-2-2zM9 17H7v-7h2v7zm4 0h-2V7h2v10zm4 0h-2v-4h2v4z\"/>\n",
              "    </g>\n",
              "</svg>\n",
              "  </button>\n",
              "\n",
              "<style>\n",
              "  .colab-df-quickchart {\n",
              "      --bg-color: #E8F0FE;\n",
              "      --fill-color: #1967D2;\n",
              "      --hover-bg-color: #E2EBFA;\n",
              "      --hover-fill-color: #174EA6;\n",
              "      --disabled-fill-color: #AAA;\n",
              "      --disabled-bg-color: #DDD;\n",
              "  }\n",
              "\n",
              "  [theme=dark] .colab-df-quickchart {\n",
              "      --bg-color: #3B4455;\n",
              "      --fill-color: #D2E3FC;\n",
              "      --hover-bg-color: #434B5C;\n",
              "      --hover-fill-color: #FFFFFF;\n",
              "      --disabled-bg-color: #3B4455;\n",
              "      --disabled-fill-color: #666;\n",
              "  }\n",
              "\n",
              "  .colab-df-quickchart {\n",
              "    background-color: var(--bg-color);\n",
              "    border: none;\n",
              "    border-radius: 50%;\n",
              "    cursor: pointer;\n",
              "    display: none;\n",
              "    fill: var(--fill-color);\n",
              "    height: 32px;\n",
              "    padding: 0;\n",
              "    width: 32px;\n",
              "  }\n",
              "\n",
              "  .colab-df-quickchart:hover {\n",
              "    background-color: var(--hover-bg-color);\n",
              "    box-shadow: 0 1px 2px rgba(60, 64, 67, 0.3), 0 1px 3px 1px rgba(60, 64, 67, 0.15);\n",
              "    fill: var(--button-hover-fill-color);\n",
              "  }\n",
              "\n",
              "  .colab-df-quickchart-complete:disabled,\n",
              "  .colab-df-quickchart-complete:disabled:hover {\n",
              "    background-color: var(--disabled-bg-color);\n",
              "    fill: var(--disabled-fill-color);\n",
              "    box-shadow: none;\n",
              "  }\n",
              "\n",
              "  .colab-df-spinner {\n",
              "    border: 2px solid var(--fill-color);\n",
              "    border-color: transparent;\n",
              "    border-bottom-color: var(--fill-color);\n",
              "    animation:\n",
              "      spin 1s steps(1) infinite;\n",
              "  }\n",
              "\n",
              "  @keyframes spin {\n",
              "    0% {\n",
              "      border-color: transparent;\n",
              "      border-bottom-color: var(--fill-color);\n",
              "      border-left-color: var(--fill-color);\n",
              "    }\n",
              "    20% {\n",
              "      border-color: transparent;\n",
              "      border-left-color: var(--fill-color);\n",
              "      border-top-color: var(--fill-color);\n",
              "    }\n",
              "    30% {\n",
              "      border-color: transparent;\n",
              "      border-left-color: var(--fill-color);\n",
              "      border-top-color: var(--fill-color);\n",
              "      border-right-color: var(--fill-color);\n",
              "    }\n",
              "    40% {\n",
              "      border-color: transparent;\n",
              "      border-right-color: var(--fill-color);\n",
              "      border-top-color: var(--fill-color);\n",
              "    }\n",
              "    60% {\n",
              "      border-color: transparent;\n",
              "      border-right-color: var(--fill-color);\n",
              "    }\n",
              "    80% {\n",
              "      border-color: transparent;\n",
              "      border-right-color: var(--fill-color);\n",
              "      border-bottom-color: var(--fill-color);\n",
              "    }\n",
              "    90% {\n",
              "      border-color: transparent;\n",
              "      border-bottom-color: var(--fill-color);\n",
              "    }\n",
              "  }\n",
              "</style>\n",
              "\n",
              "  <script>\n",
              "    async function quickchart(key) {\n",
              "      const quickchartButtonEl =\n",
              "        document.querySelector('#' + key + ' button');\n",
              "      quickchartButtonEl.disabled = true;  // To prevent multiple clicks.\n",
              "      quickchartButtonEl.classList.add('colab-df-spinner');\n",
              "      try {\n",
              "        const charts = await google.colab.kernel.invokeFunction(\n",
              "            'suggestCharts', [key], {});\n",
              "      } catch (error) {\n",
              "        console.error('Error during call to suggestCharts:', error);\n",
              "      }\n",
              "      quickchartButtonEl.classList.remove('colab-df-spinner');\n",
              "      quickchartButtonEl.classList.add('colab-df-quickchart-complete');\n",
              "    }\n",
              "    (() => {\n",
              "      let quickchartButtonEl =\n",
              "        document.querySelector('#df-c6af0d14-6526-44c5-b2e5-964dd49dc4dd button');\n",
              "      quickchartButtonEl.style.display =\n",
              "        google.colab.kernel.accessAllowed ? 'block' : 'none';\n",
              "    })();\n",
              "  </script>\n",
              "</div>\n",
              "\n",
              "    </div>\n",
              "  </div>\n"
            ],
            "application/vnd.google.colaboratory.intrinsic+json": {
              "type": "dataframe",
              "summary": "{\n  \"name\": \"train_results\",\n  \"rows\": 5,\n  \"fields\": [\n    {\n      \"column\": \"ArticleId\",\n      \"properties\": {\n        \"dtype\": \"number\",\n        \"std\": 535,\n        \"min\": 458,\n        \"max\": 1791,\n        \"num_unique_values\": 5,\n        \"samples\": [\n          943,\n          1366,\n          458\n        ],\n        \"semantic_type\": \"\",\n        \"description\": \"\"\n      }\n    },\n    {\n      \"column\": \"Text\",\n      \"properties\": {\n        \"dtype\": \"string\",\n        \"num_unique_values\": 5,\n        \"samples\": [\n          \"butler strike gold spain britain s kathy butler continue impressive year victory sunday s cross internacional de venta de banos spain   scot   lead gb world cross country bronze early year   move away field ines monteiro halfway km race shrug portuguese rival win minute second   briton karl keska battle bravely finish man s km race time 31:41 kenenisa bekele ethiopia reign world long short course champion trouble opposition   win leisurely butler say success   feel great race hope good beginning marvellous season     abebe dinkessa ethiopia win brussels iaaf cross country race sunday   complete m course gelete burka crown great day ethiopia claim victory woman s race\",\n          \"j&j agree $ 25bn guidant deal pharmaceutical giant johnson johnson agree buy medical technology firm guidant $ 25.4bn \\u00a3 13bn   guidant key producer equipment combat heart problem implant defibrillator pacemaker analyst say deal aim offset johnson johnson s reliance slow drug business point merger likely drug healthcare industry fragment pressure cut cost number johnson johnson s product face patent expiration   company battle fierce competition generic product   demand defibrillator   heart small electric shock irregular heartbeat rhythm detect   expect increase   analyst say johnson johnson widely expect firm pay $ guidant share   wednesday s closing price analyst antitrust regulator force firm shed overlap stent operation stent tube artery open unblock\",\n          \"podcast mark rise diy radio apple ipod digital music player hold song   lot space fill   ipod owner fill space audio content create unpredictable assortment producer call   podcasting   strong proponent mtv host vj video jockey adam curry podcasting take apple ipod   need ipod create listen podcast podcast basically internet base radio podcaster create   usually comfort home need microphone   pc   editing software upload show internet download listen   free technology base xml computer code rss simple syndication listener subscribe podcast collect automatically bit software   mr curry pioneer late mp3 file show pick music play device automatically   mr curry record   host   edit produce daily   minute podcast call daily source code want podcast   big thing   say extension childhood love radio gadgetry   technology wire    explain   parent give radio shack project kit   allow build transmitter subsequently fm transmitter   mom drive block   far reach car radio    mr curry american   grow netherlands host illegal   pirate radio show dutch capital try university   end holland host music video spend year new york work mtv host video countdown   spend hour tinker new thing call internet   certain point   drive friday afternoon   beautiful blue sky   beautiful day think   stupid   know   m go countdown   cheque   home   sit internet morning     finish   quit say   air   s great   ve year point   s internet   ve get find   ll later    mr curry s technology broadcast interest start gel couple year ago computer storage grow exponentially high speed internet connection widely available mp3 format mean people create upload audio cheaply efficiently   importantly   mr curry say   people globe bored radio hear   listen radio hear today   s radio voice   s fake   s fake   want easy people find   real voice   internet want software automatically download new audio content directly player like   ipod mr curry computer programmer   ask create   try write finish month ago say   totally suck   net open source software dozen coder audio junkie refine result work progress call   ipodder doug kaye   california base podcaster   praise mtv vj   adam create simple script solve mile problem ipodder take audio web bring way mp3 player    explain   people wake morning   pick ipod work exercise   discover s new content automatically player   create explosion podcast content podcaster spring australia   finland   brazil   malaysia couple broadcast theirs   dawn draw   wisconsin   comfort bed topic range comfort bed   late film music thousand listener     website spring point listener right direction good podcast   chris mcintyre run podcast alley say good site technological know simply listen   tell mom   mother law copy xml rss file podcast aggregator   think speak foreign language    mr mcintyre say technical challenge   legal challenge podcaster air favourite   albeit copyright   music podcasting worry attention turn   anti radio   like conventional broadcasting interest podcast corporate world heineken podcast   playboy   adam curry s press ahead vision podcasting love daily source code introduce good music cool idea new audience call ed sullivan johnny carson podcasting   say    badge ll wear great honour   johnny carson   ed sullivan wonderful know   don t need hell lot talent   nice   ear open   let people shine s good    clark boyd technology correspondent world   bbc world service wgbh boston co production\"\n        ],\n        \"semantic_type\": \"\",\n        \"description\": \"\"\n      }\n    },\n    {\n      \"column\": \"Category\",\n      \"properties\": {\n        \"dtype\": \"string\",\n        \"num_unique_values\": 5,\n        \"samples\": [\n          \"sport\",\n          \"business\",\n          \"tech\"\n        ],\n        \"semantic_type\": \"\",\n        \"description\": \"\"\n      }\n    },\n    {\n      \"column\": \"NumberOfWords\",\n      \"properties\": {\n        \"dtype\": \"number\",\n        \"std\": 372,\n        \"min\": 175,\n        \"max\": 1045,\n        \"num_unique_values\": 5,\n        \"samples\": [\n          175,\n          189,\n          1045\n        ],\n        \"semantic_type\": \"\",\n        \"description\": \"\"\n      }\n    },\n    {\n      \"column\": \"Predictions\",\n      \"properties\": {\n        \"dtype\": \"string\",\n        \"num_unique_values\": 5,\n        \"samples\": [\n          \"sport\",\n          \"business\",\n          \"tech\"\n        ],\n        \"semantic_type\": \"\",\n        \"description\": \"\"\n      }\n    }\n  ]\n}"
            }
          },
          "metadata": {},
          "execution_count": 26
        }
      ],
      "source": [
        "train_results = train.copy().assign(Predictions=list(map(label_category_mapping.get, predicted_labels)))\n",
        "train_results.sample(5)"
      ]
    },
    {
      "cell_type": "code",
      "execution_count": 27,
      "metadata": {
        "id": "RekYlpfRRwza",
        "outputId": "01632a4e-cf63-4467-f2d8-a8e320440841",
        "colab": {
          "base_uri": "https://localhost:8080/",
          "height": 466
        }
      },
      "outputs": [
        {
          "output_type": "execute_result",
          "data": {
            "text/plain": [
              "<sklearn.metrics._plot.confusion_matrix.ConfusionMatrixDisplay at 0x7819aba2cd60>"
            ]
          },
          "metadata": {},
          "execution_count": 27
        },
        {
          "output_type": "display_data",
          "data": {
            "text/plain": [
              "<Figure size 640x480 with 2 Axes>"
            ],
            "image/png": "[encoded data removed]"
          },
          "metadata": {}
        }
      ],
      "source": [
        "cf_m = ConfusionMatrixDisplay(confusion_matrix(train_results['Category'],\n",
        "                                               train_results['Predictions'],\n",
        "                                               labels=label_predictions[1]),\n",
        "                                               display_labels=label_predictions[1])\n",
        "cf_m.plot()"
      ]
    },
    {
      "cell_type": "markdown",
      "metadata": {
        "id": "LSkVQwkDRwza"
      },
      "source": [
        "### Test Predictions\n",
        "The pre-processing procedures we used on the training dataset must be repeated."
      ]
    },
    {
      "cell_type": "code",
      "execution_count": 28,
      "metadata": {
        "id": "rPhUXvUWRwzb"
      },
      "outputs": [],
      "source": [
        "# Spacy to clean text, this might take some time\n",
        "test['Text'] = test['Text'].astype(str).apply(cleaner)"
      ]
    },
    {
      "cell_type": "code",
      "execution_count": 29,
      "metadata": {
        "id": "LvtiPzuWRwzb"
      },
      "outputs": [],
      "source": [
        "bag_test = counter.transform(test['Text'].values)"
      ]
    },
    {
      "cell_type": "code",
      "execution_count": 30,
      "metadata": {
        "id": "ZssAp425Rwzb"
      },
      "outputs": [],
      "source": [
        "tfidf_test_run = tfidf_vec.transform(bag_test)"
      ]
    },
    {
      "cell_type": "code",
      "execution_count": 31,
      "metadata": {
        "id": "ZkKAHHj_Rwzb"
      },
      "outputs": [],
      "source": [
        "# We can get the max position of the transform using argmax\n",
        "test_predicted_labels = nmf.transform(tfidf_test_run).argmax(axis=1)"
      ]
    },
    {
      "cell_type": "code",
      "execution_count": 32,
      "metadata": {
        "id": "djMT7IugRwzb",
        "outputId": "219b2d06-4ffa-434f-e3eb-2699f71f9b38",
        "colab": {
          "base_uri": "https://localhost:8080/",
          "height": 207
        }
      },
      "outputs": [
        {
          "output_type": "execute_result",
          "data": {
            "text/plain": [
              "     ArticleId                                               Text  \\\n",
              "167       1654  file swapper ready new network legal attack we...   \n",
              "409        968  kidman win photographer battle actress nicole ...   \n",
              "156        635  mutu hold talk juventus disgrace chelsea strik...   \n",
              "339         34  mtv s osbournes rock star ozzy osbourne say fa...   \n",
              "85        1307    afflict   award fatigue film world medium wi...   \n",
              "\n",
              "          Category  \n",
              "167           tech  \n",
              "409       politics  \n",
              "156          sport  \n",
              "339  entertainment  \n",
              "85   entertainment  "
            ],
            "text/html": [
              "\n",
              "  <div id=\"df-72a2f3b3-f58a-4ba3-9d39-a566028dd271\" class=\"colab-df-container\">\n",
              "    <div>\n",
              "<style scoped>\n",
              "    .dataframe tbody tr th:only-of-type {\n",
              "        vertical-align: middle;\n",
              "    }\n",
              "\n",
              "    .dataframe tbody tr th {\n",
              "        vertical-align: top;\n",
              "    }\n",
              "\n",
              "    .dataframe thead th {\n",
              "        text-align: right;\n",
              "    }\n",
              "</style>\n",
              "<table border=\"1\" class=\"dataframe\">\n",
              "  <thead>\n",
              "    <tr style=\"text-align: right;\">\n",
              "      <th></th>\n",
              "      <th>ArticleId</th>\n",
              "      <th>Text</th>\n",
              "      <th>Category</th>\n",
              "    </tr>\n",
              "  </thead>\n",
              "  <tbody>\n",
              "    <tr>\n",
              "      <th>167</th>\n",
              "      <td>1654</td>\n",
              "      <td>file swapper ready new network legal attack we...</td>\n",
              "      <td>tech</td>\n",
              "    </tr>\n",
              "    <tr>\n",
              "      <th>409</th>\n",
              "      <td>968</td>\n",
              "      <td>kidman win photographer battle actress nicole ...</td>\n",
              "      <td>politics</td>\n",
              "    </tr>\n",
              "    <tr>\n",
              "      <th>156</th>\n",
              "      <td>635</td>\n",
              "      <td>mutu hold talk juventus disgrace chelsea strik...</td>\n",
              "      <td>sport</td>\n",
              "    </tr>\n",
              "    <tr>\n",
              "      <th>339</th>\n",
              "      <td>34</td>\n",
              "      <td>mtv s osbournes rock star ozzy osbourne say fa...</td>\n",
              "      <td>entertainment</td>\n",
              "    </tr>\n",
              "    <tr>\n",
              "      <th>85</th>\n",
              "      <td>1307</td>\n",
              "      <td>afflict   award fatigue film world medium wi...</td>\n",
              "      <td>entertainment</td>\n",
              "    </tr>\n",
              "  </tbody>\n",
              "</table>\n",
              "</div>\n",
              "    <div class=\"colab-df-buttons\">\n",
              "\n",
              "  <div class=\"colab-df-container\">\n",
              "    <button class=\"colab-df-convert\" onclick=\"convertToInteractive('df-72a2f3b3-f58a-4ba3-9d39-a566028dd271')\"\n",
              "            title=\"Convert this dataframe to an interactive table.\"\n",
              "            style=\"display:none;\">\n",
              "\n",
              "  <svg xmlns=\"http://www.w3.org/2000/svg\" height=\"24px\" viewBox=\"0 -960 960 960\">\n",
              "    <path d=\"M120-120v-720h720v720H120Zm60-500h600v-160H180v160Zm220 220h160v-160H400v160Zm0 220h160v-160H400v160ZM180-400h160v-160H180v160Zm440 0h160v-160H620v160ZM180-180h160v-160H180v160Zm440 0h160v-160H620v160Z\"/>\n",
              "  </svg>\n",
              "    </button>\n",
              "\n",
              "  <style>\n",
              "    .colab-df-container {\n",
              "      display:flex;\n",
              "      gap: 12px;\n",
              "    }\n",
              "\n",
              "    .colab-df-convert {\n",
              "      background-color: #E8F0FE;\n",
              "      border: none;\n",
              "      border-radius: 50%;\n",
              "      cursor: pointer;\n",
              "      display: none;\n",
              "      fill: #1967D2;\n",
              "      height: 32px;\n",
              "      padding: 0 0 0 0;\n",
              "      width: 32px;\n",
              "    }\n",
              "\n",
              "    .colab-df-convert:hover {\n",
              "      background-color: #E2EBFA;\n",
              "      box-shadow: 0px 1px 2px rgba(60, 64, 67, 0.3), 0px 1px 3px 1px rgba(60, 64, 67, 0.15);\n",
              "      fill: #174EA6;\n",
              "    }\n",
              "\n",
              "    .colab-df-buttons div {\n",
              "      margin-bottom: 4px;\n",
              "    }\n",
              "\n",
              "    [theme=dark] .colab-df-convert {\n",
              "      background-color: #3B4455;\n",
              "      fill: #D2E3FC;\n",
              "    }\n",
              "\n",
              "    [theme=dark] .colab-df-convert:hover {\n",
              "      background-color: #434B5C;\n",
              "      box-shadow: 0px 1px 3px 1px rgba(0, 0, 0, 0.15);\n",
              "      filter: drop-shadow(0px 1px 2px rgba(0, 0, 0, 0.3));\n",
              "      fill: #FFFFFF;\n",
              "    }\n",
              "  </style>\n",
              "\n",
              "    <script>\n",
              "      const buttonEl =\n",
              "        document.querySelector('#df-72a2f3b3-f58a-4ba3-9d39-a566028dd271 button.colab-df-convert');\n",
              "      buttonEl.style.display =\n",
              "        google.colab.kernel.accessAllowed ? 'block' : 'none';\n",
              "\n",
              "      async function convertToInteractive(key) {\n",
              "        const element = document.querySelector('#df-72a2f3b3-f58a-4ba3-9d39-a566028dd271');\n",
              "        const dataTable =\n",
              "          await google.colab.kernel.invokeFunction('convertToInteractive',\n",
              "                                                    [key], {});\n",
              "        if (!dataTable) return;\n",
              "\n",
              "        const docLinkHtml = 'Like what you see? Visit the ' +\n",
              "          '<a target=\"_blank\" href=https://colab.research.google.com/notebooks/data_table.ipynb>data table notebook</a>'\n",
              "          + ' to learn more about interactive tables.';\n",
              "        element.innerHTML = '';\n",
              "        dataTable['output_type'] = 'display_data';\n",
              "        await google.colab.output.renderOutput(dataTable, element);\n",
              "        const docLink = document.createElement('div');\n",
              "        docLink.innerHTML = docLinkHtml;\n",
              "        element.appendChild(docLink);\n",
              "      }\n",
              "    </script>\n",
              "  </div>\n",
              "\n",
              "\n",
              "<div id=\"df-8363a409-4609-48a9-b915-a5b2beec3c65\">\n",
              "  <button class=\"colab-df-quickchart\" onclick=\"quickchart('df-8363a409-4609-48a9-b915-a5b2beec3c65')\"\n",
              "            title=\"Suggest charts\"\n",
              "            style=\"display:none;\">\n",
              "\n",
              "<svg xmlns=\"http://www.w3.org/2000/svg\" height=\"24px\"viewBox=\"0 0 24 24\"\n",
              "     width=\"24px\">\n",
              "    <g>\n",
              "        <path d=\"M19 3H5c-1.1 0-2 .9-2 2v14c0 1.1.9 2 2 2h14c1.1 0 2-.9 2-2V5c0-1.1-.9-2-2-2zM9 17H7v-7h2v7zm4 0h-2V7h2v10zm4 0h-2v-4h2v4z\"/>\n",
              "    </g>\n",
              "</svg>\n",
              "  </button>\n",
              "\n",
              "<style>\n",
              "  .colab-df-quickchart {\n",
              "      --bg-color: #E8F0FE;\n",
              "      --fill-color: #1967D2;\n",
              "      --hover-bg-color: #E2EBFA;\n",
              "      --hover-fill-color: #174EA6;\n",
              "      --disabled-fill-color: #AAA;\n",
              "      --disabled-bg-color: #DDD;\n",
              "  }\n",
              "\n",
              "  [theme=dark] .colab-df-quickchart {\n",
              "      --bg-color: #3B4455;\n",
              "      --fill-color: #D2E3FC;\n",
              "      --hover-bg-color: #434B5C;\n",
              "      --hover-fill-color: #FFFFFF;\n",
              "      --disabled-bg-color: #3B4455;\n",
              "      --disabled-fill-color: #666;\n",
              "  }\n",
              "\n",
              "  .colab-df-quickchart {\n",
              "    background-color: var(--bg-color);\n",
              "    border: none;\n",
              "    border-radius: 50%;\n",
              "    cursor: pointer;\n",
              "    display: none;\n",
              "    fill: var(--fill-color);\n",
              "    height: 32px;\n",
              "    padding: 0;\n",
              "    width: 32px;\n",
              "  }\n",
              "\n",
              "  .colab-df-quickchart:hover {\n",
              "    background-color: var(--hover-bg-color);\n",
              "    box-shadow: 0 1px 2px rgba(60, 64, 67, 0.3), 0 1px 3px 1px rgba(60, 64, 67, 0.15);\n",
              "    fill: var(--button-hover-fill-color);\n",
              "  }\n",
              "\n",
              "  .colab-df-quickchart-complete:disabled,\n",
              "  .colab-df-quickchart-complete:disabled:hover {\n",
              "    background-color: var(--disabled-bg-color);\n",
              "    fill: var(--disabled-fill-color);\n",
              "    box-shadow: none;\n",
              "  }\n",
              "\n",
              "  .colab-df-spinner {\n",
              "    border: 2px solid var(--fill-color);\n",
              "    border-color: transparent;\n",
              "    border-bottom-color: var(--fill-color);\n",
              "    animation:\n",
              "      spin 1s steps(1) infinite;\n",
              "  }\n",
              "\n",
              "  @keyframes spin {\n",
              "    0% {\n",
              "      border-color: transparent;\n",
              "      border-bottom-color: var(--fill-color);\n",
              "      border-left-color: var(--fill-color);\n",
              "    }\n",
              "    20% {\n",
              "      border-color: transparent;\n",
              "      border-left-color: var(--fill-color);\n",
              "      border-top-color: var(--fill-color);\n",
              "    }\n",
              "    30% {\n",
              "      border-color: transparent;\n",
              "      border-left-color: var(--fill-color);\n",
              "      border-top-color: var(--fill-color);\n",
              "      border-right-color: var(--fill-color);\n",
              "    }\n",
              "    40% {\n",
              "      border-color: transparent;\n",
              "      border-right-color: var(--fill-color);\n",
              "      border-top-color: var(--fill-color);\n",
              "    }\n",
              "    60% {\n",
              "      border-color: transparent;\n",
              "      border-right-color: var(--fill-color);\n",
              "    }\n",
              "    80% {\n",
              "      border-color: transparent;\n",
              "      border-right-color: var(--fill-color);\n",
              "      border-bottom-color: var(--fill-color);\n",
              "    }\n",
              "    90% {\n",
              "      border-color: transparent;\n",
              "      border-bottom-color: var(--fill-color);\n",
              "    }\n",
              "  }\n",
              "</style>\n",
              "\n",
              "  <script>\n",
              "    async function quickchart(key) {\n",
              "      const quickchartButtonEl =\n",
              "        document.querySelector('#' + key + ' button');\n",
              "      quickchartButtonEl.disabled = true;  // To prevent multiple clicks.\n",
              "      quickchartButtonEl.classList.add('colab-df-spinner');\n",
              "      try {\n",
              "        const charts = await google.colab.kernel.invokeFunction(\n",
              "            'suggestCharts', [key], {});\n",
              "      } catch (error) {\n",
              "        console.error('Error during call to suggestCharts:', error);\n",
              "      }\n",
              "      quickchartButtonEl.classList.remove('colab-df-spinner');\n",
              "      quickchartButtonEl.classList.add('colab-df-quickchart-complete');\n",
              "    }\n",
              "    (() => {\n",
              "      let quickchartButtonEl =\n",
              "        document.querySelector('#df-8363a409-4609-48a9-b915-a5b2beec3c65 button');\n",
              "      quickchartButtonEl.style.display =\n",
              "        google.colab.kernel.accessAllowed ? 'block' : 'none';\n",
              "    })();\n",
              "  </script>\n",
              "</div>\n",
              "\n",
              "    </div>\n",
              "  </div>\n"
            ],
            "application/vnd.google.colaboratory.intrinsic+json": {
              "type": "dataframe",
              "summary": "{\n  \"name\": \"test_results\",\n  \"rows\": 5,\n  \"fields\": [\n    {\n      \"column\": \"ArticleId\",\n      \"properties\": {\n        \"dtype\": \"number\",\n        \"std\": 623,\n        \"min\": 34,\n        \"max\": 1654,\n        \"num_unique_values\": 5,\n        \"samples\": [\n          968,\n          1307,\n          635\n        ],\n        \"semantic_type\": \"\",\n        \"description\": \"\"\n      }\n    },\n    {\n      \"column\": \"Text\",\n      \"properties\": {\n        \"dtype\": \"string\",\n        \"num_unique_values\": 5,\n        \"samples\": [\n          \"kidman win photographer battle actress nicole kidman win restraining order paparazzo photographer claim leave fearful leave sydney mansion   oscar win star take action jamie fawcett ben mcdonald bug device find outside home early week lawyer pair deny allegation plant device australian actress currently sydney film late movie   eucalyptus   russell crowe kidman prompt action follow reported high speed car chase member paparazzo sydney weekend   accord local newspaper daily telegraph   incident involve paparazzo drive red light wrong road pursuit kidman s vehicle lawyer mr fawcett mr mcdonald deny pair involve chase kidman seek   apprehend violence   order normally australia case domestic violence similar incident advise local police   nicole like clear acknowledge public figure reporter photographer job respect    say kidman s publicist wendy day     specific action individual   period time   cause feel threaten   intimidated unable leave home fear safety   magistrate lee gilmore   issue restraining order waverley local court sydney   say understand photographer entitle earn living limit behaviour   miss kidman say s willing   s go    say   believe allegation relation driving issue\",\n          \"  afflict   award fatigue film world medium wild oscar cinema goer tv view public sick watch award ceremony   accord la film critic   bob strauss   la daily news   think televise gathering star showering praise come colourful unprintable description glitzy event   roughly translate   celebrity love echo view oscar host comedian chris rock   whip medium storm say rarely watch   call award show   idiotic   chris rock accurately say   celebrity fashion    mr strauss say recent grammy music award prove rating loser   oscar organiser determine way   recently announce change ceremony include line nominee stage announce winner   unsurprisingly   prompt press speculation change aim boost flag advertising revenue entertainment weekly s dave karger maintain oscar generate excitement outside industry blockbuster   titanic lord ring   nominate near constant flow film award   represent director   actor producer   guild   mean   surprise   leave time oscar ceremony   say quick scan los angeles times los angeles daily news bear speculation win ground halt   thursday   time simply print picture plastic tent go outside kodak theatre protect red carpet rain variety hollywood reporter keep focus firmly industry relate news   uk bet close good actor category   ray star jamie foxx dead cert win   screen international s editor mike goodridge think s film simply grab public s imagination   film maker haven t produce film people adore year    say   adore save private ryan example people love ton money   s film reaction realisation america thing rosy   audience don t necessarily want dark film dollar baby   aviator find neverland   end casualty   rock pep award   critic hopeful   mr strauss doubt rock impact   add   m low rating far important thing go oscar   mr karger say comic boost young viewer   mike goodridge think rock s humour prompt america s conservative state switch despite   critic view win     clint eastwood s dollar baby affect people emotionally   beat aviator   technical artistry feeling    mr karger say   eastwood bag    add mr strauss   oscar voter vote heart head   mr goodridge say good film director martin scorsese s aviator dollar baby mr karger   favourite film year mike leigh s abortion drama vera drake   stay upbeat award despite comment   hope year small film triumph    say     s big tv event year\",\n          \"mutu hold talk juventus disgrace chelsea striker adrian mutu begin talk juventus look new club    mutu club s main stand watch match juventus fiorentina    say juventus official   decline name   meet important people club    add mutu     sack chelsea ban month take cocaine   represent alessandro moggi   son juve manager luciano moggi mutu   ban english fa   resume play undergo drug education rehabilitation programme mutu want train romanian dinamo bucharest whilst serve ban   buchar\"\n        ],\n        \"semantic_type\": \"\",\n        \"description\": \"\"\n      }\n    },\n    {\n      \"column\": \"Category\",\n      \"properties\": {\n        \"dtype\": \"string\",\n        \"num_unique_values\": 4,\n        \"samples\": [\n          \"politics\",\n          \"entertainment\",\n          \"tech\"\n        ],\n        \"semantic_type\": \"\",\n        \"description\": \"\"\n      }\n    }\n  ]\n}"
            }
          },
          "metadata": {},
          "execution_count": 32
        }
      ],
      "source": [
        "test_results = test.copy().assign(Category=list(map(label_category_mapping.get, test_predicted_labels)))\n",
        "test_results.sample(5)"
      ]
    },
    {
      "cell_type": "code",
      "execution_count": 33,
      "metadata": {
        "id": "Wn_diHH6Rwzb"
      },
      "outputs": [],
      "source": [
        "test_results[['ArticleId', 'Category']].to_csv(r'predictions/unsupervised_predictions.csv', index=False)"
      ]
    },
    {
      "cell_type": "markdown",
      "metadata": {
        "id": "d14BG3EORwzb"
      },
      "source": [
        "The unsupervised test public score was 0.92789\n",
        "\n"
      ]
    },
    {
      "cell_type": "markdown",
      "metadata": {
        "id": "fGLRUviERwzb"
      },
      "source": [
        "## Compare with supervised learning\n",
        "### Supervised Model\n",
        "We will now use a supervised model (KNN) to predict the categories."
      ]
    },
    {
      "cell_type": "code",
      "execution_count": 34,
      "metadata": {
        "id": "arWqymoPRwzc"
      },
      "outputs": [],
      "source": [
        "from sklearn.neighbors import KNeighborsClassifier"
      ]
    },
    {
      "cell_type": "code",
      "execution_count": 35,
      "metadata": {
        "id": "VPxdDRp3Rwzc",
        "outputId": "9bfd9eac-22b1-4049-8846-a18b411bf4a8",
        "colab": {
          "base_uri": "https://localhost:8080/",
          "height": 77
        }
      },
      "outputs": [
        {
          "output_type": "execute_result",
          "data": {
            "text/plain": [
              "KNeighborsClassifier()"
            ],
            "text/html": [
              "<style>#sk-container-id-2 {color: black;background-color: white;}#sk-container-id-2 pre{padding: 0;}#sk-container-id-2 div.sk-toggleable {background-color: white;}#sk-container-id-2 label.sk-toggleable__label {cursor: pointer;display: block;width: 100%;margin-bottom: 0;padding: 0.3em;box-sizing: border-box;text-align: center;}#sk-container-id-2 label.sk-toggleable__label-arrow:before {content: \"▸\";float: left;margin-right: 0.25em;color: #696969;}#sk-container-id-2 label.sk-toggleable__label-arrow:hover:before {color: black;}#sk-container-id-2 div.sk-estimator:hover label.sk-toggleable__label-arrow:before {color: black;}#sk-container-id-2 div.sk-toggleable__content {max-height: 0;max-width: 0;overflow: hidden;text-align: left;background-color: #f0f8ff;}#sk-container-id-2 div.sk-toggleable__content pre {margin: 0.2em;color: black;border-radius: 0.25em;background-color: #f0f8ff;}#sk-container-id-2 input.sk-toggleable__control:checked~div.sk-toggleable__content {max-height: 200px;max-width: 100%;overflow: auto;}#sk-container-id-2 input.sk-toggleable__control:checked~label.sk-toggleable__label-arrow:before {content: \"▾\";}#sk-container-id-2 div.sk-estimator input.sk-toggleable__control:checked~label.sk-toggleable__label {background-color: #d4ebff;}#sk-container-id-2 div.sk-label input.sk-toggleable__control:checked~label.sk-toggleable__label {background-color: #d4ebff;}#sk-container-id-2 input.sk-hidden--visually {border: 0;clip: rect(1px 1px 1px 1px);clip: rect(1px, 1px, 1px, 1px);height: 1px;margin: -1px;overflow: hidden;padding: 0;position: absolute;width: 1px;}#sk-container-id-2 div.sk-estimator {font-family: monospace;background-color: #f0f8ff;border: 1px dotted black;border-radius: 0.25em;box-sizing: border-box;margin-bottom: 0.5em;}#sk-container-id-2 div.sk-estimator:hover {background-color: #d4ebff;}#sk-container-id-2 div.sk-parallel-item::after {content: \"\";width: 100%;border-bottom: 1px solid gray;flex-grow: 1;}#sk-container-id-2 div.sk-label:hover label.sk-toggleable__label {background-color: #d4ebff;}#sk-container-id-2 div.sk-serial::before {content: \"\";position: absolute;border-left: 1px solid gray;box-sizing: border-box;top: 0;bottom: 0;left: 50%;z-index: 0;}#sk-container-id-2 div.sk-serial {display: flex;flex-direction: column;align-items: center;background-color: white;padding-right: 0.2em;padding-left: 0.2em;position: relative;}#sk-container-id-2 div.sk-item {position: relative;z-index: 1;}#sk-container-id-2 div.sk-parallel {display: flex;align-items: stretch;justify-content: center;background-color: white;position: relative;}#sk-container-id-2 div.sk-item::before, #sk-container-id-2 div.sk-parallel-item::before {content: \"\";position: absolute;border-left: 1px solid gray;box-sizing: border-box;top: 0;bottom: 0;left: 50%;z-index: -1;}#sk-container-id-2 div.sk-parallel-item {display: flex;flex-direction: column;z-index: 1;position: relative;background-color: white;}#sk-container-id-2 div.sk-parallel-item:first-child::after {align-self: flex-end;width: 50%;}#sk-container-id-2 div.sk-parallel-item:last-child::after {align-self: flex-start;width: 50%;}#sk-container-id-2 div.sk-parallel-item:only-child::after {width: 0;}#sk-container-id-2 div.sk-dashed-wrapped {border: 1px dashed gray;margin: 0 0.4em 0.5em 0.4em;box-sizing: border-box;padding-bottom: 0.4em;background-color: white;}#sk-container-id-2 div.sk-label label {font-family: monospace;font-weight: bold;display: inline-block;line-height: 1.2em;}#sk-container-id-2 div.sk-label-container {text-align: center;}#sk-container-id-2 div.sk-container {/* jupyter's `normalize.less` sets `[hidden] { display: none; }` but bootstrap.min.css set `[hidden] { display: none !important; }` so we also need the `!important` here to be able to override the default hidden behavior on the sphinx rendered scikit-learn.org. See: https://github.com/scikit-learn/scikit-learn/issues/21755 */display: inline-block !important;position: relative;}#sk-container-id-2 div.sk-text-repr-fallback {display: none;}</style><div id=\"sk-container-id-2\" class=\"sk-top-container\"><div class=\"sk-text-repr-fallback\"><pre>KNeighborsClassifier()</pre><b>In a Jupyter environment, please rerun this cell to show the HTML representation or trust the notebook. <br />On GitHub, the HTML representation is unable to render, please try loading this page with nbviewer.org.</b></div><div class=\"sk-container\" hidden><div class=\"sk-item\"><div class=\"sk-estimator sk-toggleable\"><input class=\"sk-toggleable__control sk-hidden--visually\" id=\"sk-estimator-id-2\" type=\"checkbox\" checked><label for=\"sk-estimator-id-2\" class=\"sk-toggleable__label sk-toggleable__label-arrow\">KNeighborsClassifier</label><div class=\"sk-toggleable__content\"><pre>KNeighborsClassifier()</pre></div></div></div></div></div>"
            ]
          },
          "metadata": {},
          "execution_count": 35
        }
      ],
      "source": [
        "knn = KNeighborsClassifier(n_neighbors=5)\n",
        "knn.fit(tfidf_run.toarray(), train['Category'])"
      ]
    },
    {
      "cell_type": "code",
      "execution_count": 36,
      "metadata": {
        "id": "8TitXhl-Rwzc"
      },
      "outputs": [],
      "source": [
        "category_predictions = knn.predict(tfidf_run.toarray())"
      ]
    },
    {
      "cell_type": "code",
      "execution_count": 37,
      "metadata": {
        "id": "pOF7iK_FRwzc",
        "outputId": "65c6ef17-9ad4-4c8c-c493-0904db160ec3",
        "colab": {
          "base_uri": "https://localhost:8080/"
        }
      },
      "outputs": [
        {
          "output_type": "execute_result",
          "data": {
            "text/plain": [
              "0.9583892617449664"
            ]
          },
          "metadata": {},
          "execution_count": 37
        }
      ],
      "source": [
        "accuracy_score(train['Category'], category_predictions)"
      ]
    },
    {
      "cell_type": "code",
      "execution_count": 38,
      "metadata": {
        "id": "D-CZQym5Rwzc",
        "outputId": "69a5a205-935f-4815-e3a8-29004e44ddd9",
        "colab": {
          "base_uri": "https://localhost:8080/",
          "height": 466
        }
      },
      "outputs": [
        {
          "output_type": "execute_result",
          "data": {
            "text/plain": [
              "<sklearn.metrics._plot.confusion_matrix.ConfusionMatrixDisplay at 0x7819af49d0c0>"
            ]
          },
          "metadata": {},
          "execution_count": 38
        },
        {
          "output_type": "display_data",
          "data": {
            "text/plain": [
              "<Figure size 640x480 with 2 Axes>"
            ],
            "image/png": "[encoded data removed]"
          },
          "metadata": {}
        }
      ],
      "source": [
        "cf_m_sup = ConfusionMatrixDisplay(confusion_matrix(train['Category'],\n",
        "                                                   category_predictions,\n",
        "                                                   labels=label_predictions[1]),\n",
        "                                                   display_labels=label_predictions[1])\n",
        "cf_m_sup.plot()"
      ]
    },
    {
      "cell_type": "markdown",
      "metadata": {
        "id": "bkRO_7VJRwzc"
      },
      "source": [
        "### Tests Predictions\n"
      ]
    },
    {
      "cell_type": "code",
      "execution_count": 39,
      "metadata": {
        "id": "kYfiTuz5Rwzc"
      },
      "outputs": [],
      "source": [
        "test_category_predictions = knn.predict(tfidf_test_run.toarray())"
      ]
    },
    {
      "cell_type": "code",
      "execution_count": 40,
      "metadata": {
        "id": "6A8fW0kFRwzc",
        "outputId": "179e2dcb-e838-4bc2-a971-960d9f99d96c",
        "colab": {
          "base_uri": "https://localhost:8080/",
          "height": 207
        }
      },
      "outputs": [
        {
          "output_type": "execute_result",
          "data": {
            "text/plain": [
              "     ArticleId                                               Text  \\\n",
              "663       1145  mcdonald s sponsor mtv mcdonald s   world s la...   \n",
              "493        652  wife swap maker sue   copycat   british produc...   \n",
              "471        621  israel look bank chief israel ask banker inter...   \n",
              "300        402  progress new internet domain early net new dom...   \n",
              "336       1987  uk set cut embassy overseas embassy high commi...   \n",
              "\n",
              "          Category  \n",
              "663  entertainment  \n",
              "493  entertainment  \n",
              "471       business  \n",
              "300           tech  \n",
              "336       politics  "
            ],
            "text/html": [
              "\n",
              "  <div id=\"df-e056ad81-53e5-4b0f-a67b-eb3213a9b9a4\" class=\"colab-df-container\">\n",
              "    <div>\n",
              "<style scoped>\n",
              "    .dataframe tbody tr th:only-of-type {\n",
              "        vertical-align: middle;\n",
              "    }\n",
              "\n",
              "    .dataframe tbody tr th {\n",
              "        vertical-align: top;\n",
              "    }\n",
              "\n",
              "    .dataframe thead th {\n",
              "        text-align: right;\n",
              "    }\n",
              "</style>\n",
              "<table border=\"1\" class=\"dataframe\">\n",
              "  <thead>\n",
              "    <tr style=\"text-align: right;\">\n",
              "      <th></th>\n",
              "      <th>ArticleId</th>\n",
              "      <th>Text</th>\n",
              "      <th>Category</th>\n",
              "    </tr>\n",
              "  </thead>\n",
              "  <tbody>\n",
              "    <tr>\n",
              "      <th>663</th>\n",
              "      <td>1145</td>\n",
              "      <td>mcdonald s sponsor mtv mcdonald s   world s la...</td>\n",
              "      <td>entertainment</td>\n",
              "    </tr>\n",
              "    <tr>\n",
              "      <th>493</th>\n",
              "      <td>652</td>\n",
              "      <td>wife swap maker sue   copycat   british produc...</td>\n",
              "      <td>entertainment</td>\n",
              "    </tr>\n",
              "    <tr>\n",
              "      <th>471</th>\n",
              "      <td>621</td>\n",
              "      <td>israel look bank chief israel ask banker inter...</td>\n",
              "      <td>business</td>\n",
              "    </tr>\n",
              "    <tr>\n",
              "      <th>300</th>\n",
              "      <td>402</td>\n",
              "      <td>progress new internet domain early net new dom...</td>\n",
              "      <td>tech</td>\n",
              "    </tr>\n",
              "    <tr>\n",
              "      <th>336</th>\n",
              "      <td>1987</td>\n",
              "      <td>uk set cut embassy overseas embassy high commi...</td>\n",
              "      <td>politics</td>\n",
              "    </tr>\n",
              "  </tbody>\n",
              "</table>\n",
              "</div>\n",
              "    <div class=\"colab-df-buttons\">\n",
              "\n",
              "  <div class=\"colab-df-container\">\n",
              "    <button class=\"colab-df-convert\" onclick=\"convertToInteractive('df-e056ad81-53e5-4b0f-a67b-eb3213a9b9a4')\"\n",
              "            title=\"Convert this dataframe to an interactive table.\"\n",
              "            style=\"display:none;\">\n",
              "\n",
              "  <svg xmlns=\"http://www.w3.org/2000/svg\" height=\"24px\" viewBox=\"0 -960 960 960\">\n",
              "    <path d=\"M120-120v-720h720v720H120Zm60-500h600v-160H180v160Zm220 220h160v-160H400v160Zm0 220h160v-160H400v160ZM180-400h160v-160H180v160Zm440 0h160v-160H620v160ZM180-180h160v-160H180v160Zm440 0h160v-160H620v160Z\"/>\n",
              "  </svg>\n",
              "    </button>\n",
              "\n",
              "  <style>\n",
              "    .colab-df-container {\n",
              "      display:flex;\n",
              "      gap: 12px;\n",
              "    }\n",
              "\n",
              "    .colab-df-convert {\n",
              "      background-color: #E8F0FE;\n",
              "      border: none;\n",
              "      border-radius: 50%;\n",
              "      cursor: pointer;\n",
              "      display: none;\n",
              "      fill: #1967D2;\n",
              "      height: 32px;\n",
              "      padding: 0 0 0 0;\n",
              "      width: 32px;\n",
              "    }\n",
              "\n",
              "    .colab-df-convert:hover {\n",
              "      background-color: #E2EBFA;\n",
              "      box-shadow: 0px 1px 2px rgba(60, 64, 67, 0.3), 0px 1px 3px 1px rgba(60, 64, 67, 0.15);\n",
              "      fill: #174EA6;\n",
              "    }\n",
              "\n",
              "    .colab-df-buttons div {\n",
              "      margin-bottom: 4px;\n",
              "    }\n",
              "\n",
              "    [theme=dark] .colab-df-convert {\n",
              "      background-color: #3B4455;\n",
              "      fill: #D2E3FC;\n",
              "    }\n",
              "\n",
              "    [theme=dark] .colab-df-convert:hover {\n",
              "      background-color: #434B5C;\n",
              "      box-shadow: 0px 1px 3px 1px rgba(0, 0, 0, 0.15);\n",
              "      filter: drop-shadow(0px 1px 2px rgba(0, 0, 0, 0.3));\n",
              "      fill: #FFFFFF;\n",
              "    }\n",
              "  </style>\n",
              "\n",
              "    <script>\n",
              "      const buttonEl =\n",
              "        document.querySelector('#df-e056ad81-53e5-4b0f-a67b-eb3213a9b9a4 button.colab-df-convert');\n",
              "      buttonEl.style.display =\n",
              "        google.colab.kernel.accessAllowed ? 'block' : 'none';\n",
              "\n",
              "      async function convertToInteractive(key) {\n",
              "        const element = document.querySelector('#df-e056ad81-53e5-4b0f-a67b-eb3213a9b9a4');\n",
              "        const dataTable =\n",
              "          await google.colab.kernel.invokeFunction('convertToInteractive',\n",
              "                                                    [key], {});\n",
              "        if (!dataTable) return;\n",
              "\n",
              "        const docLinkHtml = 'Like what you see? Visit the ' +\n",
              "          '<a target=\"_blank\" href=https://colab.research.google.com/notebooks/data_table.ipynb>data table notebook</a>'\n",
              "          + ' to learn more about interactive tables.';\n",
              "        element.innerHTML = '';\n",
              "        dataTable['output_type'] = 'display_data';\n",
              "        await google.colab.output.renderOutput(dataTable, element);\n",
              "        const docLink = document.createElement('div');\n",
              "        docLink.innerHTML = docLinkHtml;\n",
              "        element.appendChild(docLink);\n",
              "      }\n",
              "    </script>\n",
              "  </div>\n",
              "\n",
              "\n",
              "<div id=\"df-69fac882-fca9-4c34-a87d-c6e2623e1d46\">\n",
              "  <button class=\"colab-df-quickchart\" onclick=\"quickchart('df-69fac882-fca9-4c34-a87d-c6e2623e1d46')\"\n",
              "            title=\"Suggest charts\"\n",
              "            style=\"display:none;\">\n",
              "\n",
              "<svg xmlns=\"http://www.w3.org/2000/svg\" height=\"24px\"viewBox=\"0 0 24 24\"\n",
              "     width=\"24px\">\n",
              "    <g>\n",
              "        <path d=\"M19 3H5c-1.1 0-2 .9-2 2v14c0 1.1.9 2 2 2h14c1.1 0 2-.9 2-2V5c0-1.1-.9-2-2-2zM9 17H7v-7h2v7zm4 0h-2V7h2v10zm4 0h-2v-4h2v4z\"/>\n",
              "    </g>\n",
              "</svg>\n",
              "  </button>\n",
              "\n",
              "<style>\n",
              "  .colab-df-quickchart {\n",
              "      --bg-color: #E8F0FE;\n",
              "      --fill-color: #1967D2;\n",
              "      --hover-bg-color: #E2EBFA;\n",
              "      --hover-fill-color: #174EA6;\n",
              "      --disabled-fill-color: #AAA;\n",
              "      --disabled-bg-color: #DDD;\n",
              "  }\n",
              "\n",
              "  [theme=dark] .colab-df-quickchart {\n",
              "      --bg-color: #3B4455;\n",
              "      --fill-color: #D2E3FC;\n",
              "      --hover-bg-color: #434B5C;\n",
              "      --hover-fill-color: #FFFFFF;\n",
              "      --disabled-bg-color: #3B4455;\n",
              "      --disabled-fill-color: #666;\n",
              "  }\n",
              "\n",
              "  .colab-df-quickchart {\n",
              "    background-color: var(--bg-color);\n",
              "    border: none;\n",
              "    border-radius: 50%;\n",
              "    cursor: pointer;\n",
              "    display: none;\n",
              "    fill: var(--fill-color);\n",
              "    height: 32px;\n",
              "    padding: 0;\n",
              "    width: 32px;\n",
              "  }\n",
              "\n",
              "  .colab-df-quickchart:hover {\n",
              "    background-color: var(--hover-bg-color);\n",
              "    box-shadow: 0 1px 2px rgba(60, 64, 67, 0.3), 0 1px 3px 1px rgba(60, 64, 67, 0.15);\n",
              "    fill: var(--button-hover-fill-color);\n",
              "  }\n",
              "\n",
              "  .colab-df-quickchart-complete:disabled,\n",
              "  .colab-df-quickchart-complete:disabled:hover {\n",
              "    background-color: var(--disabled-bg-color);\n",
              "    fill: var(--disabled-fill-color);\n",
              "    box-shadow: none;\n",
              "  }\n",
              "\n",
              "  .colab-df-spinner {\n",
              "    border: 2px solid var(--fill-color);\n",
              "    border-color: transparent;\n",
              "    border-bottom-color: var(--fill-color);\n",
              "    animation:\n",
              "      spin 1s steps(1) infinite;\n",
              "  }\n",
              "\n",
              "  @keyframes spin {\n",
              "    0% {\n",
              "      border-color: transparent;\n",
              "      border-bottom-color: var(--fill-color);\n",
              "      border-left-color: var(--fill-color);\n",
              "    }\n",
              "    20% {\n",
              "      border-color: transparent;\n",
              "      border-left-color: var(--fill-color);\n",
              "      border-top-color: var(--fill-color);\n",
              "    }\n",
              "    30% {\n",
              "      border-color: transparent;\n",
              "      border-left-color: var(--fill-color);\n",
              "      border-top-color: var(--fill-color);\n",
              "      border-right-color: var(--fill-color);\n",
              "    }\n",
              "    40% {\n",
              "      border-color: transparent;\n",
              "      border-right-color: var(--fill-color);\n",
              "      border-top-color: var(--fill-color);\n",
              "    }\n",
              "    60% {\n",
              "      border-color: transparent;\n",
              "      border-right-color: var(--fill-color);\n",
              "    }\n",
              "    80% {\n",
              "      border-color: transparent;\n",
              "      border-right-color: var(--fill-color);\n",
              "      border-bottom-color: var(--fill-color);\n",
              "    }\n",
              "    90% {\n",
              "      border-color: transparent;\n",
              "      border-bottom-color: var(--fill-color);\n",
              "    }\n",
              "  }\n",
              "</style>\n",
              "\n",
              "  <script>\n",
              "    async function quickchart(key) {\n",
              "      const quickchartButtonEl =\n",
              "        document.querySelector('#' + key + ' button');\n",
              "      quickchartButtonEl.disabled = true;  // To prevent multiple clicks.\n",
              "      quickchartButtonEl.classList.add('colab-df-spinner');\n",
              "      try {\n",
              "        const charts = await google.colab.kernel.invokeFunction(\n",
              "            'suggestCharts', [key], {});\n",
              "      } catch (error) {\n",
              "        console.error('Error during call to suggestCharts:', error);\n",
              "      }\n",
              "      quickchartButtonEl.classList.remove('colab-df-spinner');\n",
              "      quickchartButtonEl.classList.add('colab-df-quickchart-complete');\n",
              "    }\n",
              "    (() => {\n",
              "      let quickchartButtonEl =\n",
              "        document.querySelector('#df-69fac882-fca9-4c34-a87d-c6e2623e1d46 button');\n",
              "      quickchartButtonEl.style.display =\n",
              "        google.colab.kernel.accessAllowed ? 'block' : 'none';\n",
              "    })();\n",
              "  </script>\n",
              "</div>\n",
              "\n",
              "    </div>\n",
              "  </div>\n"
            ],
            "application/vnd.google.colaboratory.intrinsic+json": {
              "type": "dataframe",
              "summary": "{\n  \"name\": \"test_results_supervised\",\n  \"rows\": 5,\n  \"fields\": [\n    {\n      \"column\": \"ArticleId\",\n      \"properties\": {\n        \"dtype\": \"number\",\n        \"std\": 634,\n        \"min\": 402,\n        \"max\": 1987,\n        \"num_unique_values\": 5,\n        \"samples\": [\n          652,\n          1987,\n          621\n        ],\n        \"semantic_type\": \"\",\n        \"description\": \"\"\n      }\n    },\n    {\n      \"column\": \"Text\",\n      \"properties\": {\n        \"dtype\": \"string\",\n        \"num_unique_values\": 5,\n        \"samples\": [\n          \"wife swap maker sue   copycat   british producer wife swap take legal action claim   blatant wholescale copycat   programme   rdf medium   make network abc   file damage claim $ \\u00a3 fox s trading spouse abc buy right british   air hit channel network claim   support rdf s action   respect produce partner   right protect intellectual property manner deem appropriate    say abc statement spokesman fox say see detail legal action comment   screen june   criticise press similarity wife swap abc originally plan programme trading mom   change avoid confusion fox version early year   nbc network claim fox s boxing great champ hurriedly produce ensure programme screen nbc allege boxing regulation violate   fail attempt pull fox prove rating flop   nbc s contender begin february\",\n          \"uk set cut embassy overseas embassy high commission close effort save money   uk foreign secretary jack straw announce   bahamas   east timor   madagascar swaziland area affect big shake diplomatic service year diplomatic post turn local staff mr straw say save \\u00a3 m year free cash priority fight terrorism   honorary consul appoint area affect embassy closure consulate consulate general close   europe america   include dallas   bordeaux france oporto portugal   local staff replace uk representation change place end   saving cut staff run cost money fund redundancy payment write statement   mr straw say   saving help underpin high priority work line foreign commonwealth office s strategic priority   include counter- proliferation   counter terrorism   energy climate change   saving redeploy strategic priority work certain region close post   africa   instance   plan create new job cover issue region   new post nairobi help support work climate change   nigeria cover energy pretoria cover regional issue generally cover maseru mbabane    foreign office currently uk base staff open major new mission baghdad basra iraq   kabul afghanistan pyongyang north korea response government say change need overseas post close exclude wednesday s cut new embassy consulate open shake aim help make \\u00a3 m efficiency saving chancellor demand government department similar saving shadow foreign secretary michael ancram say constant need ensure value money foreign mission   government far clear reason make dramatic change announce british commercial interest interest briton abroad adversely affect    say\",\n          \"israel look bank chief israel ask banker international monetary fund director run central bank   stanley fischer   vice chairman bank giant citigroup   agree bank israel job subject approval parliament cabinet nomination prime minister ariel sharon come surprise   lead gain tel aviv stock market mr fischer   speak fluent hebrew   israeli citizen job say citizenship   previous incumbent david klein   argue finance ministry   step january mr fischer face delicate balancing act political economic term mr sharon finance minister binyamin netanyahu   back nomination appointment raise hope bring fresh investment improvement country s credit rating mr fischer go israel month   emigrate decide finally return teach massachussetts institute technology spend month second bank israel   begin long time involvement study israel s economy mr fischer adviser israel s economy secretary state george shultz world bank   participate draw economic stabilisation package israel\"\n        ],\n        \"semantic_type\": \"\",\n        \"description\": \"\"\n      }\n    },\n    {\n      \"column\": \"Category\",\n      \"properties\": {\n        \"dtype\": \"string\",\n        \"num_unique_values\": 4,\n        \"samples\": [\n          \"business\",\n          \"politics\",\n          \"entertainment\"\n        ],\n        \"semantic_type\": \"\",\n        \"description\": \"\"\n      }\n    }\n  ]\n}"
            }
          },
          "metadata": {},
          "execution_count": 40
        }
      ],
      "source": [
        "test_results_supervised = test.copy().assign(Category=test_category_predictions)\n",
        "test_results_supervised.sample(5)"
      ]
    },
    {
      "cell_type": "code",
      "execution_count": 41,
      "metadata": {
        "id": "o3MCfz38Rwzd"
      },
      "outputs": [],
      "source": [
        "test_results_supervised[['ArticleId', 'Category']].to_csv(r'predictions/supervised_predictions.csv', index=False)"
      ]
    },
    {
      "cell_type": "markdown",
      "metadata": {
        "id": "qQ-ul1bERwzd"
      },
      "source": [
        "The supervised test public score was 0.94829\n",
        "\n"
      ]
    },
    {
      "cell_type": "markdown",
      "metadata": {
        "id": "qAzbTRikRwzd"
      },
      "source": [
        "### Using just a sample of the data to check.\n",
        "\n"
      ]
    },
    {
      "cell_type": "code",
      "execution_count": 42,
      "metadata": {
        "id": "Az-IYvN1Rwzd"
      },
      "outputs": [],
      "source": [
        "train_50 = train.groupby('Category', group_keys=False).apply(lambda x: x.sample(frac=.5)).copy()"
      ]
    },
    {
      "cell_type": "code",
      "execution_count": 43,
      "metadata": {
        "id": "lYO5v7iWRwzd",
        "outputId": "d2de8c7a-7efb-4301-ca32-6e7acff251f2",
        "colab": {
          "base_uri": "https://localhost:8080/"
        }
      },
      "outputs": [
        {
          "output_type": "execute_result",
          "data": {
            "text/plain": [
              "Category\n",
              "sport            0.232527\n",
              "business         0.225806\n",
              "politics         0.184140\n",
              "entertainment    0.182796\n",
              "tech             0.174731\n",
              "Name: proportion, dtype: float64"
            ]
          },
          "metadata": {},
          "execution_count": 43
        }
      ],
      "source": [
        "# Check that the fractions are maintained\n",
        "train_50['Category'].value_counts(normalize=True)"
      ]
    },
    {
      "cell_type": "markdown",
      "metadata": {
        "id": "zANrmsNWRwzd"
      },
      "source": [
        "## Results and Discussion\n",
        "For both the training and test datasets, the supervised model outperformed the unsupervised model; however, it still had room for improvement.\n",
        "\n",
        "This pattern persisted when the dataset was reduced to 50% by substituting train_50 for each trained value. The following are the outcomes:\n",
        "\n",
        "- The unsupervised training and testing results are 0.9389 and 0.9278.\n",
        "- The supervised training and testing results are 0.9583 and 0.94829.\n",
        "\n",
        "\n",
        "\n",
        "Thank you for reviewing my project.<br>\n",
        "~ SmitaM"
      ]
    },
    {
      "cell_type": "markdown",
      "metadata": {
        "id": "nFk8lq-dRwzd"
      },
      "source": [
        "## Bibliographies\n",
        "Datasets - https://www.kaggle.com/competitions/learn-ai-bbc/data<br>\n",
        "Sklearn Library https://scikit-learn.org/stable/auto_examples/applications/plot_topics_extraction_with_nmf_lda.html<br>\n",
        "Spacy https://spacy.io/usage/spacy-101<br>\n",
        "ML Book https://github.com/rasbt/machine-learning-book<br>"
      ]
    }
  ],
  "metadata": {
    "kernelspec": {
      "display_name": "Python 3",
      "language": "python",
      "name": "python3"
    },
    "language_info": {
      "codemirror_mode": {
        "name": "ipython",
        "version": 3
      },
      "file_extension": ".py",
      "mimetype": "text/x-python",
      "name": "python",
      "nbconvert_exporter": "python",
      "pygments_lexer": "ipython3",
      "version": "3.11.3"
    },
    "colab": {
      "provenance": []
    }
  },
  "nbformat": 4,
  "nbformat_minor": 0
}